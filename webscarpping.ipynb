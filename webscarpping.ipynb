{
 "cells": [
  {
   "cell_type": "code",
   "execution_count": 1,
   "metadata": {
    "collapsed": true
   },
   "outputs": [],
   "source": [
    "#web scrapping using python\n",
    "\n",
    "import requests\n"
   ]
  },
  {
   "cell_type": "code",
   "execution_count": 2,
   "metadata": {
    "collapsed": true
   },
   "outputs": [],
   "source": [
    "import bs4"
   ]
  },
  {
   "cell_type": "code",
   "execution_count": 4,
   "metadata": {
    "collapsed": true
   },
   "outputs": [],
   "source": [
    "res = requests.get('https://learncodeonline.in')"
   ]
  },
  {
   "cell_type": "code",
   "execution_count": 5,
   "metadata": {},
   "outputs": [
    {
     "data": {
      "text/plain": [
       "requests.models.Response"
      ]
     },
     "execution_count": 5,
     "metadata": {},
     "output_type": "execute_result"
    }
   ],
   "source": [
    "type(res)"
   ]
  },
  {
   "cell_type": "code",
   "execution_count": 6,
   "metadata": {},
   "outputs": [
    {
     "data": {
      "text/plain": [
       "'<!DOCTYPE html>\\n<html lang=\"en\">\\n\\n  <head>\\n    <meta charset=\"utf-8\">\\n<meta http-equiv=\"X-UA-Compatible\" content=\"IE=edge\">\\n<meta name=\"viewport\" content=\"width=device-width, initial-scale=1\">\\n<meta name=\"viewport\" content=\"width=device-width, initial-scale=1.0, minimum-scale=1.0, maximum-scale=1.0, user-scalable=no\">\\n<meta name=\"theme-color\" content=\"#333\">\\n<title>Learn Code Online</title>\\n<meta name=\"description\" content=\"Learn Code Online\">\\n<link rel=\"shortcut icon\" href=\"assets/img/learncodeonline-favicon.png\">\\n<link rel=\"stylesheet\" href=\"https://fonts.googleapis.com/icon?family=Material+Icons\">\\n<link rel=\"stylesheet\" href=\"assets/css/preload.min.css\" />\\n<link rel=\"stylesheet\" href=\"assets/css/plugins.min.css\" />\\n<link rel=\"stylesheet\" href=\"assets/css/style.light-blue-500.css\" />\\n<link rel=\"stylesheet\" href=\"assets/css/width-boxed.min.css\" id=\"ms-boxed\" disabled=\"\">\\n<!--[if lt IE 9]>\\n    <script src=\"assets/js/html5shiv.min.js\"></script>\\n    <script src=\"assets/js/respond.min.js\"></script>\\n<![endif]-->\\n  </head>\\n  <body>\\n\\n<div id=\"ms-preload\" class=\"ms-preload\">\\n  <div id=\"status\">\\n    <div class=\"spinner\">\\n      <div class=\"dot1\"></div>\\n      <div class=\"dot2\"></div>\\n    </div>\\n  </div>\\n</div>\\n\\n    <div class=\"sb-site-container\">\\n      <!-- Modal -->\\n<header class=\"ms-header ms-header-primary\">\\n  <div class=\"container container-full\">\\n    <div class=\"ms-title\">\\n      <a href=\"https://learncodeonline.in\">\\n        <img src=\"assets/img/logo.png\" alt=\"Learn Code online\">\\n        <!-- <span class=\"ms-logo animated zoomInDown animation-delay-5\">M</span> -->\\n        <h1 class=\"animated fadeInRight animation-delay-6\">Learn Code\\n          <span>Online</span>\\n        </h1>\\n      </a>\\n    </div>\\n    <div class=\"header-right\">\\n      <div class=\"share-menu\">\\n        <ul class=\"share-menu-list\">\\n          <li class=\"animated fadeInRight animation-delay-3\">\\n            <a href=\"https://youtube.com/hiteshitube\" class=\"btn-circle btn-google\">\\n              <i class=\"zmdi zmdi-youtube\"></i>\\n            </a>\\n          </li>\\n          <li class=\"animated fadeInRight animation-delay-2\">\\n            <a href=\"https://fb.com/hiteshchoudharyPage\" class=\"btn-circle btn-facebook\">\\n              <i class=\"zmdi zmdi-facebook\"></i>\\n            </a>\\n          </li>\\n          <li class=\"animated fadeInRight animation-delay-1\">\\n            <a href=\"https://twitter.com/hiteshdotcom\" class=\"btn-circle btn-twitter\">\\n              <i class=\"zmdi zmdi-twitter\"></i>\\n            </a>\\n          </li>\\n        </ul>\\n        <a href=\"javascript:void(0)\" class=\"btn-circle btn-circle-primary animated zoomInDown animation-delay-7\">\\n          <i class=\"zmdi zmdi-share\"></i>\\n        </a>\\n      </div>\\n      <a href=\"https://courses.learncodeonline.in\" class=\"btn-circle btn-circle-primary no-focus animated zoomInDown animation-delay-8\" >\\n        <i class=\"zmdi zmdi-account\"></i>\\n      </a>\\n\\n      <a href=\"javascript:void(0)\" class=\"btn-ms-menu btn-circle btn-circle-primary sb-toggle-left animated zoomInDown animation-delay-10\">\\n        <i class=\"zmdi zmdi-menu\"></i>\\n      </a>\\n    </div>\\n  </div>\\n</header>\\n<nav class=\"navbar navbar-static-top yamm ms-navbar ms-navbar-primary\">\\n  <div class=\"container container-full\">\\n    <div class=\"navbar-header\">\\n      <a class=\"navbar-brand\" href=\"#\">\\n        <img src=\"assets/img/logo-mini.png\" alt=\"\">\\n\\n        <span class=\"ms-title\">Learn Code\\n          <strong>Online</strong>\\n        </span>\\n      </a>\\n    </div>\\n    <div id=\"navbar\" class=\"navbar-collapse collapse\">\\n      <ul class=\"nav navbar-nav\">\\n        <li class=\"dropdown active\">\\n          <a href=\"javascript:void(0)\" class=\"dropdown-toggle animated fadeIn animation-delay-4\" data-toggle=\"dropdown\" data-hover=\"dropdown\" data-name=\"home\">Home\\n            <i class=\"zmdi zmdi-chevron-down\"></i>\\n          </a>\\n          <ul class=\"dropdown-menu\">\\n            <li>\\n              <div class=\"ms-menu-double\">\\n                <ul class=\"ms-menu-double-main-menu\">\\n                  <li class=\"active\">\\n                    <a href=\"./index.php\" >\\n                      <i class=\"zmdi zmdi-home\"></i> Home</a>\\n                  </li>\\n                  <li>\\n                    <a href=\"./about-learncodeonline.php\">\\n                      <i class=\"zmdi zmdi-desktop-windows\"></i> About LCO</a>\\n                  </li>\\n                  <li>\\n                    <a href=\"#\" data-hover=\"tab\">\\n                      <i class=\"zmdi zmdi-panorama-horizontal\"></i> Why Learn Code Online</a>\\n                  </li>\\n\\n                  <li>\\n                    <a href=\"#\">\\n                      <i class=\"zmdi zmdi-account\"></i> Changing Tech Education</a>\\n                  </li>\\n                  <li>\\n                    <a href=\"#\">\\n                      <i class=\"zmdi zmdi-account\"></i> Meet the TEAM</a>\\n                  </li>\\n\\n                </ul>\\n\\n              </div>\\n            </li>\\n          </ul>\\n        </li>\\n        <li class=\"dropdown\">\\n          <a href=\"https://courses.learncodeonline.in\" class=\"dropdown-toggle animated fadeIn animation-delay-5\" >Courses\\n          </li>\\n          </a>\\n\\n          <li class=\"dropdown\">\\n            <a href=\"#\" class=\"dropdown-toggle animated fadeIn animation-delay-9\" data-toggle=\"dropdown\" data-hover=\"dropdown\" role=\"button\" aria-haspopup=\"true\" aria-expanded=\"false\" data-name=\"ecommerce\">LCO APPS\\n              <i class=\"zmdi zmdi-chevron-down\"></i>\\n            </a>\\n            <ul class=\"dropdown-menu\">\\n              <li>\\n                <a href=\"https://play.google.com/store/apps/details?id=in.learncodeonline.lco&hl=en\">Android App</a>\\n              </li>\\n\\n              <li class=\"divider\"></li>\\n              <li>\\n                <a href=\"https://itunes.apple.com/WebObjects/MZStore.woa/wa/viewSoftware?id=1273049320&mt=8\">iOS App</a>\\n              </li>\\n\\n            </ul>\\n          </li>\\n        </li>\\n        <li class=\"dropdown yamm-fw\">\\n          <a href=\"#\" class=\"dropdown-toggle animated fadeIn animation-delay-6\" data-toggle=\"dropdown\" data-hover=\"dropdown\" role=\"button\" aria-haspopup=\"true\" aria-expanded=\"false\" data-name=\"component\">Learning Tracks\\n            <i class=\"zmdi zmdi-chevron-down\"></i>\\n          </a>\\n          <ul class=\"dropdown-menu dropdown-megamenu animated fadeIn animated-2x\">\\n            <li>\\n              <div class=\"row\">\\n                <div class=\"col-sm-3 megamenu-col\">\\n                  <div class=\"megamenu-block animated fadeInLeft animated-2x\">\\n                    <h3 class=\"megamenu-block-title\">\\n                      <i class=\"fa fa-bold\"></i> Web Development</h3>\\n                    <ul class=\"megamenu-block-list\">\\n                      <li>\\n                        <a class=\"withripple\" href=\"#\">\\n                          <i class=\"fa fa-font\"></i> HTML and HTML 5</a>\\n                      </li>\\n                      <li>\\n                        <a class=\"withripple\" href=\"#\">\\n                          <i class=\"fa fa-header\"></i> CSS and CSS 3</a>\\n                      </li>\\n                      <li>\\n                        <a class=\"withripple\" href=\"https://courses.learncodeonline.in/learn/complete-front-end-development\">\\n                          <i class=\"fa fa-arrows-h\"></i> Complete front end developer Bootcamp</a>\\n                      </li>\\n                      <li>\\n                        <a class=\"withripple\" href=\"https://courses.learncodeonline.in/learn/php-online-course-with-projects\">\\n                          <i class=\"fa fa-arrows-h\"></i> PHP super series</a>\\n                      </li>\\n                      <li>\\n                        <a class=\"withripple\" href=\"https://courses.learncodeonline.in/learn/Complete-React-JS-course\">\\n                          <i class=\"fa fa-quote-right\"></i> Complete ReactJS Bootcamp</a>\\n                      </li>\\n\\n                    </ul>\\n                  </div>\\n                  <div class=\"megamenu-block animated fadeInLeft animated-2x\">\\n                    <h3 class=\"megamenu-block-title\">\\n                      <i class=\"fa fa-hand-o-up\"></i> Others</h3>\\n                    <ul class=\"megamenu-block-list\">\\n                      <li>\\n                        <a class=\"withripple\" href=\"https://courses.learncodeonline.in/learn/Python3-course\">\\n                          <i class=\"fa fa-arrow-circle-right\"></i> Python 3</a>\\n                      </li>\\n\\n                    </ul>\\n                  </div>\\n                </div>\\n                <div class=\"col-sm-3 megamenu-col\">\\n                  <div class=\"megamenu-block animated fadeInLeft animated-2x\">\\n                    <h3 class=\"megamenu-block-title\">\\n                      <i class=\"fa fa-list-alt\"></i> Android Development</h3>\\n                    <ul class=\"megamenu-block-list\">\\n                      <li>\\n                        <a class=\"withripple\" href=\"https://courses.learncodeonline.in/learn/Complete-Java-Bootcamp\">\\n                          <i class=\"zmdi zmdi-view-agenda\"></i> Complete Java Bootcamp for beginners</a>\\n                      </li>\\n                      <li>\\n                        <a class=\"withripple\" href=\"https://courses.learncodeonline.in/learn/Android-java-course\">\\n                          <i class=\"zmdi zmdi-view-agenda\"></i> Complete Android O course</a>\\n                      </li>\\n                      <li>\\n                        <a class=\"withripple\" href=\"https://courses.learncodeonline.in/learn/Kotlin-android-tutorials\">\\n                          <i class=\"zmdi zmdi-view-agenda\"></i> Learn Kotlin and be ready for modern Android Development</a>\\n                      </li>\\n\\n                    </ul>\\n                  </div>\\n                </div>\\n                <div class=\"col-sm-3 megamenu-col\">\\n                  <div class=\"megamenu-block animated fadeInRight animated-2x\">\\n                    <h3 class=\"megamenu-block-title\">\\n                      <i class=\"zmdi zmdi-folder-star-alt\"></i> iOS Development</h3>\\n                    <ul class=\"megamenu-block-list\">\\n                      <li>\\n                        <a class=\"withripple\" href=\"https://courses.learncodeonline.in/learn/Complete-iOS-11-developer-Bootcamp\">\\n                          <i class=\"zmdi zmdi-card-membership\"></i> Complete iOS 11 Bootcamp</a>\\n                      </li>\\n\\n                    </ul>\\n                  </div>\\n\\n                </div>\\n                <div class=\"col-sm-3 megamenu-col\">\\n                  <div class=\"megamenu-block animated fadeInRight animated-2x\">\\n                    <h3 class=\"megamenu-block-title\">\\n                      <i class=\"fa fa-briefcase\"></i> Penetration Testing</h3>\\n                    <ul class=\"megamenu-block-list\">\\n                      <li>\\n                        <a class=\"withripple\" href=\"https://courses.learncodeonline.in/learn/Complete-Penetration-Testing-and-Ethical-hacking-Bootcamp\">\\n                          <i class=\"fa fa-arrow-circle-right\"></i> Pentesting Bootcamp for Beginners</a>\\n                      </li>\\n                      <li>\\n                        <a class=\"withripple\" href=\"https://courses.learncodeonline.in/learn/Web-Application-penetration-testing-and-Bug-Bounty-Course\">\\n                          <i class=\"fa fa-arrow-circle-right\"></i> Bug Bounty Hunting Course</a>\\n                      </li>\\n\\n                    </ul>\\n                  </div>\\n                  <div class=\"megamenu-block animated fadeInRight animated-2x\">\\n                    <h3 class=\"megamenu-block-title\">\\n                      <i class=\"fa fa-area-chart\"></i> Free Code Tracks</h3>\\n                    <ul class=\"megamenu-block-list\">\\n                      <li>\\n                        <a class=\"withripple\" href=\"https://courses.learncodeonline.in/learn/emmet-course\">\\n                          <i class=\"zmdi zmdi-chart-donut\"></i> Write Faster HTML and CSS</a>\\n                      </li>\\n                      <li>\\n                        <a class=\"withripple\" href=\"https://courses.learncodeonline.in/learn/Complete-Bootstrap-4-course\">\\n                          <i class=\"zmdi zmdi-chart-donut\"></i> Bootstrap 4 with 3 projects</a>\\n                      </li>\\n\\n                    </ul>\\n                  </div>\\n                </div>\\n              </div>\\n            </li>\\n          </ul>\\n        </li>\\n        <li><a href=\"https://learncodeonline.in/blog\">Blog</a></li>\\n        <!-- <li class=\"dropdown\">\\n          <a href=\"#\" class=\"dropdown-toggle animated fadeIn animation-delay-8\" data-toggle=\"dropdown\" data-hover=\"dropdown\" role=\"button\" aria-haspopup=\"true\" aria-expanded=\"false\" data-name=\"portfolio\">Courses List\\n            <i class=\"zmdi zmdi-chevron-down\"></i>\\n          </a>\\n          <ul class=\"dropdown-menu\">\\n            <li>\\n              <a href=\"https://courses.learncodeonline.in/learn/Android-java-course\">\\n                <i class=\"zmdi zmdi-card-membership\"></i> Android O</a>\\n            </li>\\n            <li>\\n              <a href=\"https://courses.learncodeonline.in/learn/Complete-iOS-11-developer-Bootcamp\">\\n                <i class=\"zmdi zmdi-view-agenda\"></i> iOS 11</a>\\n            </li>\\n            <li>\\n              <a href=\"https://courses.learncodeonline.in/learn/complete-front-end-development\">\\n                <i class=\"zmdi zmdi-view-compact\"></i> Front end Web Development Bootcamp</a>\\n            </li>\\n            <li>\\n              <a href=\"https://courses.learncodeonline.in/learn/Complete-React-JS-course\">\\n                <i class=\"zmdi zmdi-view-agenda\"></i> ReactJS Bootcamp</a>\\n            </li>\\n            <li>\\n              <a href=\"https://courses.learncodeonline.in/learn/Python3-course\">\\n                <i class=\"zmdi zmdi-card-membership\"></i> Python</a>\\n            </li>\\n            <li>\\n              <a href=\"https://courses.learncodeonline.in/learn/nodejs-course\">\\n                <i class=\"zmdi zmdi-card-membership\"></i> Node JS</a>\\n            </li>\\n            <li>\\n              <a href=\"https://courses.learncodeonline.in/learn/Complete-Bootstrap-4-course\">\\n                <i class=\"zmdi zmdi-view-dashboard\"></i> Bootstrap 4</a>\\n            </li>\\n            <li>\\n              <a href=\"https://courses.learncodeonline.in/learn/php-online-course-with-projects\">\\n                <i class=\"zmdi zmdi-view-dashboard\"></i> PHP</a>\\n            </li>\\n            <li>\\n              <a href=\"https://courses.learncodeonline.in/learn/Kotlin-android-tutorials\">\\n                <i class=\"zmdi zmdi-view-dashboard\"></i> Kotlin programming</a>\\n            </li>\\n            <li>\\n              <a href=\"https://courses.learncodeonline.in/learn/Learn-C-as-your-first-programming-language\">\\n                <i class=\"zmdi zmdi-view-dashboard\"></i> C programming</a>\\n            </li>\\n            <li>\\n              <a href=\"https://courses.learncodeonline.in/learn/Web-Application-penetration-testing-and-Bug-Bounty-Course\">\\n                <i class=\"zmdi zmdi-view-dashboard\"></i> Bug Bounty</a>\\n            </li>\\n            <li>\\n              <a href=\"https://courses.learncodeonline.in/learn/Complete-Penetration-Testing-and-Ethical-hacking-Bootcamp\">\\n                <i class=\"zmdi zmdi-view-dashboard\"></i> Ethical Hacking</a>\\n            </li>\\n            <li>\\n              <a href=\"https://courses.learncodeonline.in/learn/JavaScript-tutorials\">\\n                <i class=\"zmdi zmdi-view-dashboard\"></i> JavaScript</a>\\n            </li>\\n            <li>\\n              <a href=\"https://courses.learncodeonline.in/learn\">\\n                <i class=\"zmdi zmdi-view-dashboard\"></i> More...</a>\\n            </li>\\n\\n          </ul>\\n        </li> -->\\n        <li class=\"dropdown\">\\n          <a href=\"#\" class=\"dropdown-toggle animated fadeIn animation-delay-9\" data-toggle=\"dropdown\" data-hover=\"dropdown\" role=\"button\" aria-haspopup=\"true\" aria-expanded=\"false\" data-name=\"ecommerce\">Contact US\\n            <i class=\"zmdi zmdi-chevron-down\"></i>\\n          </a>\\n          <ul class=\"dropdown-menu\">\\n            <li>\\n              <a href=\"./contact-learncodeonline.php\">Email is fastest</a>\\n            </li>\\n            <li>\\n              <a target=\"_blank\" href=\"https://fb.com/hiteshChoudharyPage\">Facebook is easiest</a>\\n            </li>\\n\\n            <li class=\"divider\"></li>\\n            <li>\\n              <a href=\"./contact-learncodeonline.php\">Send a letter to our HQ</a>\\n            </li>\\n            <li>\\n              <a href=\"./faq.php\">F.A.Q</a>\\n            </li>\\n\\n            <li>\\n              <a href=\"./invite-hitesh-choudhary.php\">Invite at Campus</a>\\n            </li>\\n          </ul>\\n        </li>\\n      </ul>\\n    </div>\\n    <!-- navbar-collapse collapse -->\\n    <a href=\"javascript:void(0)\" class=\"sb-toggle-left btn-navbar-menu\">\\n      <i class=\"zmdi zmdi-menu\"></i>\\n    </a>\\n  </div>\\n  <!-- container -->\\n</nav>\\n<div class=\"ms-hero ms-hero-material\">\\n  <span class=\"ms-hero-bg\"></span>\\n  <div class=\"container\">\\n    <div class=\"col-lg-6 col-md-7\">\\n      <div id=\"carousel-hero\" class=\"carousel slide carousel-fade\" data-ride=\"carousel\" data-interval=\"8000\">\\n        <!-- Wrapper for slides -->\\n        <div class=\"carousel-inner\" role=\"listbox\">\\n          <div class=\"item active\">\\n            <div class=\"carousel-caption\">\\n              <div class=\"ms-hero-material-text-container\">\\n                <header class=\"ms-hero-material-title animated slideInLeft animation-delay-5\">\\n                  <h1 class=\"animated fadeInLeft animation-delay-15 font-smoothing\">Best Online\\n                    <strong>Programming</strong> Courses</h1>\\n                  <h2 class=\"animated fadeInLeft animation-delay-18\">High Quality\\n                    <span class=\"color-warning\">Affordable</span> Courses.</h2>\\n                </header>\\n                <ul class=\"ms-hero-material-list\">\\n                  <li class=\"\">\\n                    <div class=\"ms-list-icon animated zoomInUp animation-delay-18\">\\n                      <span class=\"ms-icon ms-icon-circle ms-icon-xlg color-warning shadow-3dp\">\\n                        <i class=\"zmdi zmdi-airplane\"></i>\\n                      </span>\\n                    </div>\\n                    <div class=\"ms-list-text animated fadeInRight animation-delay-19\">Fastest growing Tech Video platform in INDIA</div>\\n                  </li>\\n                  <li class=\"\">\\n                    <div class=\"ms-list-icon animated zoomInUp animation-delay-20\">\\n                      <span class=\"ms-icon ms-icon-circle ms-icon-xlg color-success shadow-3dp\">\\n                        <i class=\"zmdi zmdi-bike\"></i>\\n                      </span>\\n                    </div>\\n                    <div class=\"ms-list-text animated fadeInRight animation-delay-21\">Take courses with you using mobile Apps</div>\\n                  </li>\\n                  <li class=\"\">\\n                    <div class=\"ms-list-icon animated zoomInUp animation-delay-22\">\\n                      <span class=\"ms-icon ms-icon-circle ms-icon-xlg color-danger shadow-3dp\">\\n                        <i class=\"zmdi zmdi-bookmark\"></i>\\n                      </span>\\n                    </div>\\n                    <div class=\"ms-list-text animated fadeInRight animation-delay-23\">Courses Comes with Certifications</div>\\n                  </li>\\n                </ul>\\n                <div class=\"ms-hero-material-buttons text-right\">\\n                  <div class=\"ms-hero-material-buttons text-right\">\\n                    <a href=\"https://youtube.com/hiteshitube\" class=\"btn btn-warning btn-raised animated fadeInLeft animation-delay-24 mr-2\">\\n                      <i class=\"zmdi zmdi-youtube\"></i> Youtube</a>\\n                    <a href=\"https://courses.learncodeonline.in/learn\" class=\"btn btn-success btn-raised animated fadeInRight animation-delay-24\">\\n                      <i class=\"zmdi zmdi-download\"></i> Take me to Courses</a>\\n                  </div>\\n                </div>\\n              </div>\\n              <!-- ms-hero-material-text-container -->\\n            </div>\\n          </div>\\n          <div class=\"item\">\\n            <div class=\"carousel-caption\">\\n              <div class=\"ms-hero-material-text-container\">\\n                <header class=\"ms-hero-material-title animated slideInLeft animation-delay-5\">\\n                  <h1 class=\"animated fadeInLeft animation-delay-15\">Amazing\\n                    <strong>Android and iOS</strong> Apps</h1>\\n                  <h2 class=\"animated fadeInLeft animation-delay-18\">Learn Code\\n                    <span class=\"color-warning\">on the go.</span>.</h2>\\n                </header>\\n                <ul class=\"ms-hero-material-list\">\\n                  <li class=\"\">\\n                    <div class=\"ms-list-icon animated zoomInUp animation-delay-18\">\\n                      <span class=\"ms-icon ms-icon-circle ms-icon-xlg color-info shadow-3dp\">\\n                        <i class=\"zmdi zmdi-smartphone-android\"></i>\\n                      </span>\\n                    </div>\\n                    <div class=\"ms-list-text animated fadeInRight animation-delay-19\">Are you an Android users, we got you cover with our Android app.</div>\\n                  </li>\\n                  <li class=\"\">\\n                    <div class=\"ms-list-icon animated zoomInUp animation-delay-20\">\\n                      <span class=\"ms-icon ms-icon-circle ms-icon-xlg color-royal shadow-3dp\">\\n                        <i class=\"zmdi zmdi-smartphone-iphone\"></i>\\n                      </span>\\n                    </div>\\n                    <div class=\"ms-list-text animated fadeInRight animation-delay-21\">Are you an iOS user, we got you covered with our iOS app.</div>\\n                  </li>\\n                  <li class=\"\">\\n                    <div class=\"ms-list-icon animated zoomInUp animation-delay-22\">\\n                      <span class=\"ms-icon ms-icon-circle ms-icon-xlg color-warning shadow-3dp\">\\n                        <i class=\"zmdi zmdi-desktop-mac\"></i>\\n                      </span>\\n                    </div>\\n                    <div class=\"ms-list-text animated fadeInRight animation-delay-23\">Access your course at Website, Android App or iOS app.</div>\\n                  </li>\\n                </ul>\\n                <div class=\"ms-hero-material-buttons text-right\">\\n                  <div class=\"ms-hero-material-buttons text-right\">\\n                    <a href=\"https://play.google.com/store/apps/details?id=in.learncodeonline.lco&hl=en\" class=\"btn btn-warning btn-raised animated fadeInLeft animation-delay-24 mr-2\">\\n                      <i class=\"zmdi zmdi-smartphone-download\"></i> Android App</a>\\n                    <a href=\"https://itunes.apple.com/WebObjects/MZStore.woa/wa/viewSoftware?id=1273049320&mt=8\" class=\"btn btn-warning btn-raised animated fadeInRight animation-delay-24\">\\n                      <i class=\"zmdi zmdi-smartphone-download\"></i> iOS App</a>\\n                  </div>\\n                </div>\\n              </div>\\n              <!-- ms-hero-material-text-container -->\\n            </div>\\n          </div>\\n\\n          <div class=\"carousel-controls\">\\n            <!-- Controls -->\\n            <a class=\"left carousel-control animated zoomIn animation-delay-30\" href=\"#carousel-hero\" role=\"button\" data-slide=\"prev\">\\n              <i class=\"zmdi zmdi-chevron-left\"></i>\\n              <span class=\"sr-only\">Previous</span>\\n            </a>\\n            <a class=\"right carousel-control animated zoomIn animation-delay-30\" href=\"#carousel-hero\" role=\"button\" data-slide=\"next\">\\n              <i class=\"zmdi zmdi-chevron-right\"></i>\\n              <span class=\"sr-only\">Next</span>\\n            </a>\\n            <!-- Indicators -->\\n            <ol class=\"carousel-indicators\">\\n              <li data-target=\"#carousel-hero\" data-slide-to=\"0\" class=\"animated fadeInUpBig animation-delay-27 active\"></li>\\n              <li data-target=\"#carousel-hero\" data-slide-to=\"1\" class=\"animated fadeInUpBig animation-delay-28\"></li>\\n            </ol>\\n          </div>\\n        </div>\\n      </div>\\n    </div>\\n    <div class=\"col-lg-6 col-md-5\">\\n      <div class=\"ms-hero-img animated zoomInUp animation-delay-30\">\\n        <img src=\"assets/img/imac-bg.png\" alt=\"\" class=\"img-responsive\">\\n        <div id=\"carousel-hero-img\" class=\"carousel carousel-fade slide\" data-ride=\"carousel\" data-interval=\"3000\">\\n          <!-- Indicators -->\\n          <ol class=\"carousel-indicators carousel-indicators-hero-img\">\\n            <li data-target=\"#carousel-hero-img\" data-slide-to=\"0\" class=\"active\"></li>\\n            <li data-target=\"#carousel-hero-img\" data-slide-to=\"1\"></li>\\n            <li data-target=\"#carousel-hero-img\" data-slide-to=\"2\"></li>\\n          </ol>\\n          <!-- Wrapper for slides -->\\n          <div class=\"carousel-inner\" role=\"listbox\">\\n            <div class=\"ms-hero-img-slider item active\">\\n              <img src=\"assets/img/slider3.png\" alt=\"\" class=\"img-responsive\"> </div>\\n            <div class=\"ms-hero-img-slider item\">\\n              <img src=\"assets/img/slider1.png\" alt=\"\" class=\"img-responsive\"> </div>\\n            <div class=\"ms-hero-img-slider item\">\\n              <img src=\"assets/img/slider2.png\" alt=\"\" class=\"img-responsive\"> </div>\\n          </div>\\n        </div>\\n      </div>\\n    </div>\\n  </div>\\n  <!-- container -->\\n</div>\\n\\n<!-- app and star student section -->\\n  <div class=\"container\">\\n  <div class=\"text-center\">\\n    <a href=\"https://learncodeonline.in/games/SaveTheSmiley/\" class=\"btn btn-raised btn-block btn-success animated fadeInUp animation-delay-10\">\\n      <h3><i class=\"zmdi zmdi-keyboard\"></i> Game - Save the smiley</h3></a>\\n      <a href=\"https://learncodeonline.in/games/NinjaMission/\" class=\"btn btn-raised btn-block btn-warning animated fadeInUp animation-delay-10\">\\n        <h3><i class=\"zmdi zmdi-keyboard\"></i> Game -  Ninja Mission</h3></a>\\n    <a href=\"https://learncodeonline.in/blog\" class=\"btn btn-raised btn-block btn-info animated fadeInUp animation-delay-10\">\\n      <h3><i class=\"zmdi zmdi-keyboard\"></i> Blog</h3></a>\\n    <h1 class=\"no-m ms-site-title  center-block ms-site-title-lg mt-2 animated zoomInDown animation-delay-5\">Star Students and Apps</h1>\\n    <p class=\"lead lead-lg text-center center-block mt-2 mb-4 mw-800 text-uppercase fw-300 animated fadeInUp animation-delay-7\">Every single day many of our students create their first website, their first login system, their iOS and Android apps. Some of them are mentioned in our star students list.</p>\\n      <a href=\"https://play.google.com/store/apps/details?id=in.learncodeonline.lco\" class=\"btn btn-raised btn-info animated fadeInUp animation-delay-10\">\\n        <i class=\"zmdi zmdi-code-smartphone\"></i> Our Android App</a>\\n        <a href=\"./star-students.php\" class=\"btn btn-raised btn-warning animated fadeInUp animation-delay-10\">\\n        <i class=\"zmdi zmdi-accounts\"></i> STAR STUDENTS</a>\\n        <a href=\"https://itunes.apple.com/WebObjects/MZStore.woa/wa/viewSoftware?id=1273049320&mt=8\" class=\"btn btn-raised btn-success animated fadeInUp animation-delay-10\">\\n          <i class=\"zmdi zmdi-code-smartphone\"></i> Our iOS App</a>\\n          <a href=\"./invite-hitesh-choudhary.php\" class=\"btn btn-raised btn-danger animated fadeInUp animation-delay-10\">\\n            <i class=\"zmdi zmdi-city\"></i> Invite LCO at Campus</a>\\n  </div>\\n</div>\\n\\n<!-- app and star student section end -->\\n\\n      <!-- Why Learn Code online section -->\\n      <!-- why lco section -->\\n\\n<div class=\"container mt-4\">\\n  <h2 class=\"text-center color-primary mb-2 wow fadeInDown animation-delay-4\">Why Learn Code Online only?</h2>\\n  <p class=\"lead text-center aco wow fadeInDown animation-delay-5 mw-800 center-block mb-4\"> High-Quality Courses at\\n    <span class=\"color-primary\">affordable rates.</span> Yep, it\\'s that simple</p>\\n  <div class=\"ms-feature col-lg-3 col-md-6 col-sm-6 card wow flipInX animation-delay-4\">\\n    <div class=\"text-center card-block\">\\n      <span class=\"ms-icon ms-icon-circle ms-icon-xxlg color-info\">\\n        <i class=\"zmdi zmdi-home\"></i>\\n      </span>\\n      <h4 class=\"color-info\">Comfort</h4>\\n      <p class=\"\">Learn in the comfort of your home and get updates on latest technology trends.</p><br>\\n      <a href=\"javascript:void(0)\" class=\"btn btn-info btn-raised\">Comfort</a>\\n    </div>\\n  </div>\\n  <div class=\"ms-feature col-lg-3 col-md-6 col-sm-6 card wow flipInX animation-delay-8\">\\n    <div class=\"text-center card-block\">\\n      <span class=\"ms-icon ms-icon-circle ms-icon-xxlg color-warning\">\\n        <i class=\"zmdi zmdi-desktop-mac\"></i>\\n      </span>\\n      <h4 class=\"color-warning\">Watch it again</h4>\\n      <p class=\"\">Watch videos 1 time or 100 times without any worry of teachers yelling at you.</p><br>\\n      <a href=\"javascript:void(0)\" class=\"btn btn-warning btn-raised\">Watch it Again</a>\\n    </div>\\n  </div>\\n  <div class=\"ms-feature col-lg-3 col-md-6 col-sm-6 card wow flipInX animation-delay-10\">\\n    <div class=\"text-center card-block\">\\n      <span class=\"ms-icon ms-icon-circle ms-icon-xxlg color-success\">\\n        <i class=\"zmdi zmdi-time\"></i>\\n      </span>\\n      <h4 class=\"color-success\">At your time</h4>\\n      <p class=\"\">Class starts when you say so and ends when you say so. It\\'s totally in your control.  </p><br>\\n      <a href=\"javascript:void(0)\" class=\"btn btn-success btn-raised\">NO time boundation</a>\\n    </div>\\n  </div>\\n  <div class=\"ms-feature col-lg-3 col-md-6 col-sm-6 card wow flipInX animation-delay-6\">\\n    <div class=\"text-center card-block\">\\n      <span class=\"ms-icon ms-icon-circle ms-icon-xxlg  color-danger\">\\n        <i class=\"zmdi zmdi-pin-drop\"></i>\\n      </span>\\n      <h4 class=\"color-danger\">Expert at your reach</h4>\\n      <p class=\"\">Gone are the days when you have to reach to experts. As expert&#39;s classes are at your home now\\nwith LCO.</p>\\n      <a href=\"javascript:void(0)\" class=\"btn btn-danger btn-raised\">Expert in your reach</a>\\n    </div>\\n  </div>\\n</div>\\n\\n      <!-- Aim Learn Code Online Section -->\\n    <div class=\"wrap wrap-mountain mt-6\">\\n  <div class=\"container\">\\n    <h2 class=\"text-center text-light mb-6 wow fadeInDown animation-delay-5\">Our Aim at\\n      <strong>Learn Code Online</strong> Vision for Our Students.</h2>\\n    <div class=\"row\">\\n      <div class=\"col-md-6 col-md-push-6 mb-4  center-block\">\\n        <img src=\"assets/img/aim-lco.png\" alt=\"\" class=\"img-responsive center-block wow zoomIn animation-delay-12 \"> </div>\\n      <div class=\"col-md-6 col-md-pull-6 pr-6\">\\n        <p class=\"wow fadeInLeft animation-delay-6\">Technical education is not easy to grab and most of the Universities present in India are failing\\nmiserably to follow current industry standards for tech training. Just having a lab isn&#39;t the\\nanswer for all technical knowledge.</p>\\n        <p class=\"wow fadeInLeft animation-delay-7\">Our Goal is to fulfill that requirement of best online training of programming at affordable rates.</p>\\n        <p class=\"wow fadeInLeft animation-delay-8\">Android development, iOS development, full stack web development, python, PHP, Java,\\nreactJS, react Native, redux, pentesting, bug bounties are mere few courses of our continuous\\nincreasing course library.</p>\\n        <div class=\"text-center\">\\n          <a href=\"https://youtube.com/hiteshitube\" class=\"btn btn-warning btn-raised mr-1 wow flipInX animation-delay-14\">\\n            <i class=\"zmdi zmdi-youtube-play\"></i> YouTube Channel </a>\\n          <a href=\"https://courses.learncodeonline.in/learn\" class=\"btn btn-info btn-raised wow flipInX animation-delay-16\">\\n            <i class=\"zmdi zmdi-collection-video\"></i> Our Courses</a>\\n        </div>\\n      </div>\\n    </div>\\n  </div>\\n</div>\\n\\n      <!--Testimonial Section of Learn Code Online -->\\n      <div class=\"wrap wrap-danger mt-6\">\\n  <h2 class=\"text-center no-m\">What our Students say</h2>\\n  <div id=\"carousel-example-generic\" class=\"carousel carousel-cards carousel-fade slide\" data-ride=\"carousel\" data-interval=\"7000\">\\n    <!-- Indicators -->\\n    <ol class=\"carousel-indicators\">\\n      <li data-target=\"#carousel-example-generic\" data-slide-to=\"0\" class=\"active\"></li>\\n      <li data-target=\"#carousel-example-generic\" data-slide-to=\"1\"></li>\\n      <li data-target=\"#carousel-example-generic\" data-slide-to=\"2\"></li>\\n    </ol>\\n    <!-- Wrapper for slides -->\\n    <div class=\"carousel-inner\" role=\"listbox\">\\n      <div class=\"item active\">\\n        <div class=\"carousel-caption\">\\n          <div class=\"container\">\\n            <div class=\"row\">\\n              <div class=\"col-md-4\">\\n                <div class=\"card animated flipInX animation-delay-2\">\\n                  <blockquote class=\"blockquote-avatar withripple\">\\n                    <img src=\"assets/img/avatar.png\" alt=\"\" class=\"avatar hidden-xs\">\\n                    <p>Great course, very well explained, the examples are good and the hands-on exeperience is valuable. The are plenty resources provided and I really enjoy the instructor\\'s style.</p>\\n                    <footer>Andreea D., ReactJS Course.</footer>\\n                  </blockquote>\\n                </div>\\n              </div>\\n              <div class=\"col-md-4\">\\n                <div class=\"card animated flipInX animation-delay-3\">\\n                  <blockquote class=\"blockquote-avatar withripple\">\\n                    <img src=\"assets/img/avatar.png\" alt=\"\" class=\"avatar hidden-xs\">\\n                    <p>Crisp and Robust! Beautifully explained and expressed concepts! A Great Relief for a aspiring developer.</p>\\n                    <footer>Jagjit Singh, iOS course</footer>\\n                  </blockquote>\\n                </div>\\n              </div>\\n              <div class=\"col-md-4\">\\n                <div class=\"card animated flipInX animation-delay-4\">\\n                  <blockquote class=\"blockquote-avatar withripple\">\\n                    <img src=\"assets/img/avatar.png\" alt=\"\" class=\"avatar hidden-xs\">\\n                    <p>I feel this course covers topics that are practical and the treatment is comprehensive. I have learnt a great deal and it has exceeded my expectations. I am making steady progress and enjoying the experience!</p>\\n                    <footer>Sumit Sirohi, Android Course</footer>\\n                  </blockquote>\\n                </div>\\n              </div>\\n            </div>\\n          </div>\\n        </div>\\n      </div>\\n      <div class=\"item\">\\n        <div class=\"carousel-caption\">\\n          <div class=\"container\">\\n            <div class=\"row\">\\n              <div class=\"col-md-4\">\\n                <div class=\"card animated flipInX animation-delay-2\">\\n                  <blockquote class=\"blockquote-avatar withripple\">\\n                    <img src=\"assets/img/avatar.png\" alt=\"\" class=\"avatar hidden-xs\">\\n                    <p>With this course I feel i can learn the framework really fast and easy, must say I was overwhelmed with other courses, but this works just fine with me.</p>\\n                    <footer>Tomas Reynoso, Bootstrap Course.</footer>\\n                  </blockquote>\\n                </div>\\n              </div>\\n              <div class=\"col-md-4\">\\n                <div class=\"card animated flipInX animation-delay-3\">\\n                  <blockquote class=\"blockquote-avatar withripple\">\\n                    <img src=\"assets/img/avatar.png\" alt=\"\" class=\"avatar hidden-xs\">\\n                    <p>This course is highly informative and insightful. I am learning a lot from each single video and his explanations really help a lot. This is definitely worth the buy.</p>\\n                    <footer>Michael Kwaku Adongo, Pentesting course</footer>\\n                  </blockquote>\\n                </div>\\n              </div>\\n              <div class=\"col-md-4\">\\n                <div class=\"card animated flipInX animation-delay-4\">\\n                  <blockquote class=\"blockquote-avatar withripple\">\\n                    <img src=\"assets/img/avatar.png\" alt=\"\" class=\"avatar hidden-xs\">\\n                    <p>Awesome Course. Recommend it to everybody.</p>\\n                    <footer>Harjot Singh, Front End web Course</footer>\\n                  </blockquote>\\n                </div>\\n              </div>\\n            </div>\\n          </div>\\n        </div>\\n      </div>\\n      <div class=\"item\">\\n        <div class=\"carousel-caption\">\\n          <div class=\"container\">\\n            <div class=\"row\">\\n              <div class=\"col-md-4\">\\n                <div class=\"card animated flipInX animation-delay-2\">\\n                  <blockquote class=\"blockquote-avatar withripple\">\\n                    <img src=\"assets/img/avatar.png\" alt=\"\" class=\"avatar hidden-xs\">\\n                    <p>The Course is structured in a way that it doesn\\'t bore or makes complicated, rather it makes viewer more interested to continue study.</p>\\n                    <footer>Sarath Kumar, Web Development Course</footer>\\n                  </blockquote>\\n                </div>\\n              </div>\\n              <div class=\"col-md-4\">\\n                <div class=\"card animated flipInX animation-delay-3\">\\n                  <blockquote class=\"blockquote-avatar withripple\">\\n                    <img src=\"assets/img/avatar.png\" alt=\"\" class=\"avatar hidden-xs\">\\n                    <p>I love the technical content of this course as well as the ease with which these course has been explained. Pretty facilitating stuff that Emmet can do and really well explained as well as at a good pace. Would love to see more courses from you and by the way, thank you for this course.</p>\\n                    <footer>Surojit Ain, Emmet Course</footer>\\n                  </blockquote>\\n                </div>\\n              </div>\\n              <div class=\"col-md-4\">\\n                <div class=\"card animated flipInX animation-delay-4\">\\n                  <blockquote class=\"blockquote-avatar withripple\">\\n                    <img src=\"assets/img/avatar.png\" alt=\"\" class=\"avatar hidden-xs\">\\n                    <p>The pace of the course is to my liking... the instructor is somewhat humorous which brings lightness to the learning environment. This course has changed my outlook on learning programming languages in profound ways.</p>\\n                    <footer>Bill Burns, Python Course</footer>\\n                  </blockquote>\\n                </div>\\n              </div>\\n            </div>\\n          </div>\\n        </div>\\n      </div>\\n    </div>\\n    <!-- Controls -->\\n    <a class=\"left carousel-control btn btn-white btn-raised\" href=\"#carousel-example-generic\" role=\"button\" data-slide=\"prev\">\\n      <i class=\"zmdi zmdi-arrow-left\"></i>\\n      <span class=\"sr-only\">Previous</span>\\n    </a>\\n    <a class=\"right carousel-control btn btn-white btn-raised\" href=\"#carousel-example-generic\" role=\"button\" data-slide=\"next\">\\n      <i class=\"zmdi zmdi-arrow-right\"></i>\\n      <span class=\"sr-only\">Next</span>\\n    </a>\\n  </div>\\n</div>\\n\\n      <!--Latest course Section of Learn Code Online -->\\n    <div class=\"container mt-6\">\\n  <h2 class=\"text-center color-primary mb-4\">Our Latest Courses</h2>\\n  <div class=\"owl-dots\"></div>\\n  <div class=\"owl-carousel owl-theme\">\\n    <div class=\"card animation-delay-6\">\\n      <div class=\"withripple zoom-img\">\\n        <a href=\"javascript:void()\">\\n          <img src=\"assets/img/ios11-course.png\" alt=\"...\" class=\"img-responsive\">\\n        </a>\\n      </div>\\n      <div class=\"card-block\">\\n        <h3 class=\"color-primary\">Complete iOS 11 Bootcamp</h3>\\n        <p>Latest Course on Complete iOS 11 is out. Grab it!</p>\\n        <p class=\"text-right\">\\n          <a href=\"https://courses.learncodeonline.in/learn/Complete-iOS-11-developer-Bootcamp?\" class=\"btn btn-primary btn-raised text-right\" role=\"button\">\\n            <i class=\"zmdi zmdi-collection-image-o\"></i>Learn iOS 11</a>\\n        </p>\\n      </div>\\n    </div>\\n    <div class=\"card card-dark-inverse animation-delay-8\">\\n      <div class=\"withripple zoom-img\">\\n        <a href=\"javascript:void()\">\\n          <img src=\"assets/img/android-course.png\" alt=\"...\" class=\"img-responsive\">\\n        </a>\\n      </div>\\n      <div class=\"card-block\">\\n        <h3 class=\"\">Complete Android O</h3>\\n        <p>Complete Android O course with 10 Apps and java is out. Grab it!</p>\\n        <p class=\"text-right\">\\n          <a href=\"https://courses.learncodeonline.in/learn/Android-java-course?\" class=\"btn btn-info btn-raised text-right\" role=\"button\">\\n            <i class=\"zmdi zmdi-collection-image-o\"></i> Learn Android</a>\\n        </p>\\n      </div>\\n    </div>\\n    <div class=\"card animation-delay-10\">\\n      <div class=\"withripple zoom-img\">\\n        <a href=\"javascript:void()\">\\n          <img src=\"assets/img/emmet-course.jpg\" alt=\"emmet-course\" class=\"img-responsive\">\\n        </a>\\n      </div>\\n      <div class=\"card-block\">\\n        <h3 class=\"color-primary\">Emmet</h3>\\n        <p>Learn to write Faster HTML and CSS to increase productivity</p>\\n        <p class=\"text-right\">\\n          <a href=\"https://courses.learncodeonline.in/learn/emmet-course?\" class=\"btn btn-primary btn-raised text-right\" role=\"button\">\\n            <i class=\"zmdi zmdi-collection-image-o\"></i> Learn Emmet</a>\\n        </p>\\n      </div>\\n    </div>\\n    <div class=\"card animation-delay-6\">\\n      <div class=\"withripple zoom-img\">\\n        <a href=\"javascript:void()\">\\n          <img src=\"assets/img/bootstrap-course.jpg\" alt=\"...\" class=\"img-responsive\">\\n        </a>\\n      </div>\\n      <div class=\"card-block\">\\n        <h3 class=\"color-primary\">Bootstrap 4</h3>\\n        <p>Bootstrap 4 is out in Beta, Be the first one to master it.</p>\\n        <p class=\"text-right\">\\n          <a href=\"https://courses.learncodeonline.in/learn/Complete-Bootstrap-4-course?\" class=\"btn btn-primary btn-raised text-right\" role=\"button\">\\n            <i class=\"zmdi zmdi-collection-image-o\"></i> Learn Bootstrap</a>\\n        </p>\\n      </div>\\n    </div>\\n    <div class=\"card card-dark-inverse animation-delay-8\">\\n      <div class=\"withripple zoom-img\">\\n        <a href=\"javascript:void()\">\\n          <img src=\"assets/img/kotlin-course.jpg\" alt=\"...\" class=\"img-responsive\">\\n        </a>\\n      </div>\\n      <div class=\"card-block\">\\n        <h3 class=\"\">Kotlin Programming</h3>\\n        <p>Learn Kotlin and stand out in Android developer Market.</p>\\n        <p class=\"text-right\">\\n          <a href=\"https://courses.learncodeonline.in/learn/Kotlin-android-tutorials?\" class=\"btn btn-info btn-raised text-right\" role=\"button\">\\n            <i class=\"zmdi zmdi-collection-image-o\"></i> Learn Kotlin</a>\\n        </p>\\n      </div>\\n    </div>\\n    <div class=\"card animation-delay-10\">\\n      <div class=\"withripple zoom-img\">\\n        <a href=\"javascript:void()\">\\n          <img src=\"assets/img/reactjs-course.jpeg\" alt=\"...\" class=\"img-responsive\">\\n        </a>\\n      </div>\\n      <div class=\"card-block\">\\n        <h3 class=\"color-primary\">React Js</h3>\\n        <p>Learn Facebook\\'s new tech to developer scalabe websites.</p>\\n        <p class=\"text-right\">\\n          <a href=\"https://courses.learncodeonline.in/learn/Complete-React-JS-course?\" class=\"btn btn-primary btn-raised text-right\" role=\"button\">\\n            <i class=\"zmdi zmdi-collection-image-o\"></i> Learn ReactJs</a>\\n        </p>\\n      </div>\\n    </div>\\n    <div class=\"card animation-delay-6\">\\n      <div class=\"withripple zoom-img\">\\n        <a href=\"javascript:void()\">\\n          <img src=\"assets/img/php-course.jpeg\" alt=\"...\" class=\"img-responsive\">\\n        </a>\\n      </div>\\n      <div class=\"card-block\">\\n        <h3 class=\"color-primary\">PHP Course</h3>\\n        <p>Learn everygreen programming language to developer websites.</p>\\n        <p class=\"text-right\">\\n          <a href=\"https://courses.learncodeonline.in/learn/php-online-course-with-projects?\" class=\"btn btn-primary btn-raised text-right\" role=\"button\">\\n            <i class=\"zmdi zmdi-collection-image-o\"></i> Learn PHP</a>\\n        </p>\\n      </div>\\n    </div>\\n    <div class=\"card card-dark-inverse animation-delay-8\">\\n      <div class=\"withripple zoom-img\">\\n        <a href=\"javascript:void()\">\\n          <img src=\"assets/img/python3-course.jpg\" alt=\"...\" class=\"img-responsive\">\\n        </a>\\n      </div>\\n      <div class=\"card-block\">\\n        <h3 class=\"\">Learn Python 3</h3>\\n        <p>Python 3 is now a stable branch and is your first step for Machine learning and information security.</p>\\n        <p class=\"text-right\">\\n          <a href=\"https://courses.learncodeonline.in/learn/Python3-course?\" class=\"btn btn-info btn-raised text-right\" role=\"button\">\\n            <i class=\"zmdi zmdi-collection-image-o\"></i> Learn Python 3</a>\\n        </p>\\n      </div>\\n    </div>\\n    <div class=\"card animation-delay-10\">\\n      <div class=\"withripple zoom-img\">\\n        <a href=\"javascript:void()\">\\n          <img src=\"assets/img/web-developer-course.jpg\" alt=\"...\" class=\"img-responsive\">\\n        </a>\\n      </div>\\n      <div class=\"card-block\">\\n        <h3 class=\"color-primary\">Web Development</h3>\\n        <p>Learn complete front end developer Bootcamp and make 14 projects.</p>\\n        <p class=\"text-right\">\\n          <a href=\"https://courses.learncodeonline.in/learn/complete-front-end-development?\" class=\"btn btn-primary btn-raised text-right\" role=\"button\">\\n            <i class=\"zmdi zmdi-collection-image-o\"></i> Learn Web development</a>\\n        </p>\\n      </div>\\n    </div>\\n  </div>\\n</div>\\n\\n      <aside class=\"ms-footbar\">\\n  <div class=\"container\">\\n    <div class=\"row\">\\n      <div class=\"col-md-4 ms-footer-col\">\\n        <div class=\"ms-footbar-block\">\\n          <h3 class=\"ms-footbar-title\">Sitemap</h3>\\n          <ul class=\"list-unstyled ms-icon-list three_cols\">\\n            <li>\\n              <a href=\"./index.php\">\\n                <i class=\"zmdi zmdi-home\"></i> Home</a>\\n            </li>\\n            <li>\\n              <a href=\"https://learncodeonline.in/blog\">\\n                <i class=\"zmdi zmdi-edit\"></i> Blog</a>\\n            </li>\\n            <li>\\n              <a href=\"https://courses.learncodeonline.in/learn\">\\n                <i class=\"zmdi zmdi-image-o\"></i> Courses</a>\\n            </li>\\n            <li>\\n              <a href=\"#\">\\n                <i class=\"zmdi zmdi-case\"></i> Work with Us</a>\\n            </li>\\n            <li>\\n              <a href=\"#\">\\n                <i class=\"zmdi zmdi-time\"></i>Universities</a>\\n            </li>\\n            <li>\\n              <a href=\"./faq.php\">\\n                <i class=\"zmdi zmdi-help\"></i> FAQ</a>\\n            </li>\\n            <li>\\n              <a href=\"./terms.php\">\\n                <i class=\"zmdi zmdi-accounts\"></i> Terms</a>\\n            </li>\\n            <li>\\n              <a href=\"./privacy-policy.php\">\\n                <i class=\"zmdi zmdi-accounts\"></i> Privacy</a>\\n            </li>\\n            <li>\\n              <a href=\"./refund.php\">\\n                <i class=\"zmdi zmdi-accounts\"></i> Refund Policy</a>\\n            </li>\\n            <li>\\n              <a href=\"./pricing.php\">\\n                <i class=\"zmdi zmdi-help\"></i> Pricing</a>\\n            </li>\\n            <li>\\n              <a href=\"https://courses.learncodeonline.in/learn/login?path=learn\">\\n                <i class=\"zmdi zmdi-lock\"></i> Login</a>\\n            </li>\\n            <li>\\n              <a href=\"./contact-learncodeonline.php\">\\n                <i class=\"zmdi zmdi-email\"></i> Contact</a>\\n            </li>\\n          </ul>\\n        </div>\\n        <div class=\"ms-footbar-block\">\\n          <h3 class=\"ms-footbar-title\">Blog</h3>\\n          <p class=\"\">We write regular blog and hire guest as well as full time writer at learncodeonline.in</p>\\n          <form>\\n\\n          <a href=\"https://learncodeonline.in/blog\">  <button class=\"ms-subscribre-btn\" type=\"button\">Visit Blog</button></a>\\n          </form>\\n        </div>\\n      </div>\\n      <div class=\"col-md-5 col-sm-7 ms-footer-col ms-footer-alt-color\">\\n        <div class=\"ms-footbar-block\">\\n          <h3 class=\"ms-footbar-title text-center mb-2\">Best Selling Courses</h3>\\n          <div class=\"ms-footer-media\">\\n            <div class=\"media\">\\n              <div class=\"media-left media-middle\">\\n                <a href=\"#\">\\n                  <img class=\"media-object media-object-circle\" src=\"assets/img/android-footer.png\" alt=\"Android footer image\"> </a>\\n              </div>\\n              <div class=\"media-body\">\\n                <h4 class=\"media-heading\">\\n                  <a href=\"#\">Complete Android Developer with 10 Apps</a>\\n                </h4>\\n                <div class=\"media-footer\">\\n                  <span>\\n                    <i class=\"zmdi zmdi-time color-info-light\"></i> 3 year access</span>\\n                  <span>\\n                    <i class=\"zmdi zmdi-folder-outline color-warning-light\"></i>\\n                    <a href=\"#\">Android</a>\\n                  </span>\\n                </div>\\n              </div>\\n            </div>\\n            <div class=\"media\">\\n              <div class=\"media-left media-middle\">\\n                <a href=\"#\">\\n                  <img class=\"media-object media-object-circle\" src=\"assets/img/webdev-footer.png\" alt=\"...\"> </a>\\n              </div>\\n              <div class=\"media-body\">\\n                <h4 class=\"media-heading\">\\n                  <a href=\"#\">Complete Front End Developer Bootcamp with 14 projects</a>\\n                </h4>\\n                <div class=\"media-footer\">\\n                  <span>\\n                    <i class=\"zmdi zmdi-time color-info-light\"></i> 3 year Access</span>\\n                  <span>\\n                    <i class=\"zmdi zmdi-folder-outline color-warning-light\"></i>\\n                    <a href=\"#\">Web development</a>\\n                  </span>\\n                </div>\\n              </div>\\n            </div>\\n            <div class=\"media\">\\n              <div class=\"media-left media-middle\">\\n                <a href=\"#\">\\n                  <img class=\"media-object media-object-circle\" src=\"assets/img/reactjs-footer.png\" alt=\"...\"> </a>\\n              </div>\\n              <div class=\"media-body\">\\n                <h4 class=\"media-heading\">\\n                  <a href=\"#\">Complete ReactJS with 10 Projects</a>\\n                </h4>\\n                <div class=\"media-footer\">\\n                  <span>\\n                    <i class=\"zmdi zmdi-time color-info-light\"></i> 3 year access</span>\\n                  <span>\\n                    <i class=\"zmdi zmdi-folder-outline color-warning-light\"></i>\\n                    <a href=\"#\">Web Development</a>\\n                  </span>\\n                </div>\\n              </div>\\n            </div>\\n          </div>\\n        </div>\\n      </div>\\n      <div class=\"col-md-3 col-sm-5 ms-footer-col ms-footer-text-right\">\\n        <div class=\"ms-footbar-block\">\\n          <div class=\"ms-footbar-title\">\\n            <span class=\"ms-logo ms-logo-white ms-logo-sm mr-1\">LCO</span>\\n            <h3 class=\"no-m ms-site-title\">Learn Code\\n              <span>Online</span>\\n            </h3>\\n          </div>\\n          <address class=\"no-mb\">\\n            <p>\\n              <i class=\"color-danger-light zmdi zmdi-pin mr-1\"></i> AB-507, Nirman Nagar</p>\\n            <p>\\n              <i class=\"color-warning-light zmdi zmdi-map mr-1\"></i> Ajmer Road, Jaipur, 302019</p>\\n            <p>\\n              <p>\\n                <i class=\"color-warning-light zmdi zmdi-map mr-1\"></i>Rajasthan, India</p>\\n              <p>\\n              <i class=\"color-info-light zmdi zmdi-email mr-1\"></i>\\n              <a href=\"#\">hitesh@hiteshchoudhary.com</a>\\n            </p>\\n            <p>\\n              <i class=\"color-royal-light zmdi zmdi-phone mr-1\"></i>+91 9783818847 </p>\\n            <p>\\n              <i class=\"color-success-light  mr-1\"></i>Mr. Chandra Mohan </p>\\n          </address>\\n        </div>\\n        <div class=\"ms-footbar-block\">\\n          <h3 class=\"ms-footbar-title\">Social Media</h3>\\n          <div class=\"ms-footbar-social\">\\n            <a href=\"https://fb.com/HiteshChoudharyPage\" class=\"btn-circle btn-facebook\">\\n              <i class=\"zmdi zmdi-facebook\"></i>\\n            </a>\\n            <a href=\"https://twitter.com/hiteshdotcom\" class=\"btn-circle btn-twitter\">\\n              <i class=\"zmdi zmdi-twitter\"></i>\\n            </a>\\n            <a href=\"https://youtube.com/hiteshitube\" class=\"btn-circle btn-youtube\">\\n              <i class=\"zmdi zmdi-youtube\"></i>\\n            </a>\\n            <br>\\n            <a href=\"#\" class=\"btn-circle btn-google\">\\n              <i class=\"zmdi zmdi-google\"></i>\\n            </a>\\n            <a href=\"https://www.instagram.com/hitesh0141/\" class=\"btn-circle btn-instagram\">\\n              <i class=\"zmdi zmdi-instagram\"></i>\\n            </a>\\n            <a href=\"https://github.com/hiteshchoudhary\" class=\"btn-circle btn-github\">\\n              <i class=\"zmdi zmdi-github\"></i>\\n            </a>\\n          </div>\\n        </div>\\n      </div>\\n    </div>\\n  </div>\\n</aside>\\n      <footer class=\"ms-footer\">\\n  <div class=\"container\">\\n    <p>Copyright &copy; LearnCodeOnline.in 2017</p>\\n    <p><i class=\"zmdi zmdi-star-circle\"></i> Designed and Coded in INDIA. <i class=\"zmdi zmdi-star-circle\"></i></p>\\n  </div>\\n</footer>\\n\\n      <div class=\"btn-back-top\">\\n  <a href=\"#\" data-scroll id=\"back-top\" class=\"btn-circle btn-circle-primary btn-circle-sm btn-circle-raised \">\\n    <i class=\"zmdi zmdi-long-arrow-up\"></i>\\n  </a>\\n</div>\\n    </div>\\n    <!-- sb-site-container -->\\n    <!-- left navigation bar -->\\n<div class=\"ms-slidebar sb-slidebar sb-left sb-style-overlay\" id=\"ms-slidebar\">\\n  <div class=\"sb-slidebar-container\">\\n    <header class=\"ms-slidebar-header\">\\n      <div class=\"ms-slidebar-login\">\\n        <a href=\"#\" class=\"withripple\">\\n          <i class=\"zmdi zmdi-account\"></i> Login</a>\\n        <a href=\"#\" class=\"withripple\">\\n          <i class=\"zmdi zmdi-account-add\"></i> Register</a>\\n      </div>\\n      <div class=\"ms-slidebar-title\">\\n\\n        <div class=\"ms-slidebar-t\">\\n          <span class=\"ms-logo ms-logo-sm\">LCO</span>\\n          <h3>Learn Code\\n            <span>Online</span>\\n          </h3>\\n        </div>\\n      </div>\\n    </header>\\n    <ul class=\"ms-slidebar-menu\" id=\"slidebar-menu\" role=\"tablist\" aria-multiselectable=\"true\">\\n      <li class=\"panel\" role=\"tab\" id=\"sch1\">\\n        <a class=\"collapsed\" role=\"button\" data-toggle=\"collapse\" data-parent=\"#slidebar-menu\" href=\"#sc1\" aria-expanded=\"false\" aria-controls=\"sc1\">\\n          <i class=\"zmdi zmdi-home\"></i> Home </a>\\n        <ul id=\"sc1\" class=\"panel-collapse collapse\" role=\"tabpanel\" aria-labelledby=\"sch1\">\\n          <li>\\n            <a href=\"./about-learncodeonline.php\">About LCO</a>\\n          </li>\\n          <li>\\n            <a href=\"#\">Why Learn Code Online</a>\\n          </li>\\n\\n          <li>\\n            <a href=\"#\">Changing Tech Education</a>\\n          </li>\\n          <li>\\n            <a href=\"#\">Meet the TEAM</a>\\n          </li>\\n        </ul>\\n      </li>\\n\\n      <li class=\"panel\" role=\"tab\" id=\"sch2\">\\n        <a class=\"collapsed\" role=\"button\"   href=\"https://courses.learncodeonline.in/learn\"  >\\n          <i class=\"zmdi zmdi-desktop-mac\"></i> Courses </a>\\n\\n      </li>\\n      <li class=\"panel\" role=\"tab\" id=\"sch2\">\\n        <a class=\"collapsed\" role=\"button\"   href=\"https://youtube.com/hiteshitube\"  >\\n          <i class=\"zmdi zmdi-desktop-mac\"></i> Youtube Channel </a>\\n\\n      </li>\\n      <li class=\"panel\" role=\"tab\" id=\"sch2\">\\n        <a class=\"collapsed\" role=\"button\"   href=\"https://learncodeonline.in/blog\"  >\\n          <i class=\"zmdi zmdi-edit\"></i> Blog </a>\\n\\n      </li>\\n\\n      <li class=\"panel\" role=\"tab\" id=\"sch4\">\\n        <a class=\"collapsed\" role=\"button\" data-toggle=\"collapse\" data-parent=\"#slidebar-menu\" href=\"#sc4\" aria-expanded=\"false\" aria-controls=\"sc4\">\\n          <i class=\"zmdi zmdi-edit\"></i> Contact US</a>\\n        <ul id=\"sc4\" class=\"panel-collapse collapse\" role=\"tabpanel\" aria-labelledby=\"sch4\">\\n          <li>\\n            <a href=\"./contact-learncodeonline.php\">Email is fastest</a>\\n          </li>\\n          <li>\\n            <a href=\"https://fb.com/hiteshchoudharyPage\">Facebook is easiest</a>\\n          </li>\\n          <li>\\n            <a href=\"./contact-learncodeonline.php\">Send Letter to HQ</a>\\n          </li>\\n          <li>\\n            <a href=\"./faq.php\">F.A.Q</a>\\n          </li>\\n          <li>\\n            <a href=\"./invite-hitesh-choudhary.php\">Invite at campus</a>\\n          </li>\\n\\n        </ul>\\n      </li>\\n      <li class=\"panel\" role=\"tab\" id=\"sch5\">\\n        <a class=\"collapsed\" role=\"button\" data-toggle=\"collapse\" data-parent=\"#slidebar-menu\" href=\"#sc5\" aria-expanded=\"false\" aria-controls=\"sc5\">\\n          <i class=\"zmdi zmdi-shopping-basket\"></i> LCO Apps </a>\\n        <ul id=\"sc5\" class=\"panel-collapse collapse\" role=\"tabpanel\" aria-labelledby=\"sch5\">\\n          <li>\\n            <a href=\"https://play.google.com/store/apps/details?id=in.learncodeonline.lco&hl=en\">Android App</a>\\n          </li>\\n          <li>\\n            <a href=\"https://itunes.apple.com/WebObjects/MZStore.woa/wa/viewSoftware?id=1273049320&mt=8\">iOS App</a>\\n          </li>\\n\\n        </ul>\\n      </li>\\n\\n\\n    </ul>\\n    <div class=\"ms-slidebar-social ms-slidebar-block\">\\n      <h4 class=\"ms-slidebar-block-title\">LCO at Social</h4>\\n      <div class=\"ms-slidebar-social\">\\n        <a href=\"https://fb.com/HiteshChoudharyPage\" class=\"btn-circle btn-circle-raised btn-facebook\">\\n          <i class=\"zmdi zmdi-facebook\"></i>\\n          <span class=\"badge badge-pink\">12</span>\\n          <div class=\"ripple-container\"></div>\\n        </a>\\n        <a href=\"https://twitter.com/hiteshdotcom\" class=\"btn-circle btn-circle-raised btn-twitter\">\\n          <i class=\"zmdi zmdi-twitter\"></i>\\n          <span class=\"badge badge-pink\">4</span>\\n          <div class=\"ripple-container\"></div>\\n        </a>\\n        <a href=\"https://youtube.com/hiteshitube\" class=\"btn-circle btn-circle-raised btn-youtube\">\\n          <i class=\"zmdi zmdi-youtube\"></i>\\n          <div class=\"ripple-container\"></div>\\n        </a>\\n        <a href=\"https://www.instagram.com/hitesh0141/\" class=\"btn-circle btn-circle-raised btn-instagram\">\\n          <i class=\"zmdi zmdi-instagram\"></i>\\n          <div class=\"ripple-container\"></div>\\n        </a>\\n      </div>\\n    </div>\\n  </div>\\n</div>\\n\\n    <script src=\"assets/js/plugins.min.js\"></script>\\n    <script src=\"assets/js/app.min.js\"></script>\\n    <script src=\"assets/js/configurator.min.js\"></script>\\n\\n    <script src=\"assets/js/index.js\"></script>\\n  </body>\\n\\n</html>\\n'"
      ]
     },
     "execution_count": 6,
     "metadata": {},
     "output_type": "execute_result"
    }
   ],
   "source": [
    "res.text"
   ]
  },
  {
   "cell_type": "code",
   "execution_count": 7,
   "metadata": {
    "collapsed": true
   },
   "outputs": [],
   "source": [
    "soup = bs4.BeautifulSoup(res.text, 'lxml')"
   ]
  },
  {
   "cell_type": "code",
   "execution_count": 8,
   "metadata": {},
   "outputs": [
    {
     "data": {
      "text/plain": [
       "requests.models.Response"
      ]
     },
     "execution_count": 8,
     "metadata": {},
     "output_type": "execute_result"
    }
   ],
   "source": [
    "type(res)"
   ]
  },
  {
   "cell_type": "code",
   "execution_count": 9,
   "metadata": {},
   "outputs": [
    {
     "data": {
      "text/plain": [
       "bs4.BeautifulSoup"
      ]
     },
     "execution_count": 9,
     "metadata": {},
     "output_type": "execute_result"
    }
   ],
   "source": [
    "type(soup)"
   ]
  },
  {
   "cell_type": "code",
   "execution_count": 10,
   "metadata": {
    "collapsed": true
   },
   "outputs": [],
   "source": [
    "hi = soup.select('title')"
   ]
  },
  {
   "cell_type": "code",
   "execution_count": 11,
   "metadata": {},
   "outputs": [
    {
     "data": {
      "text/plain": [
       "[<title>Learn Code Online</title>]"
      ]
     },
     "execution_count": 11,
     "metadata": {},
     "output_type": "execute_result"
    }
   ],
   "source": [
    "hi"
   ]
  },
  {
   "cell_type": "code",
   "execution_count": 12,
   "metadata": {},
   "outputs": [
    {
     "data": {
      "text/plain": [
       "<title>Learn Code Online</title>"
      ]
     },
     "execution_count": 12,
     "metadata": {},
     "output_type": "execute_result"
    }
   ],
   "source": [
    "hi[0]"
   ]
  },
  {
   "cell_type": "code",
   "execution_count": 13,
   "metadata": {},
   "outputs": [
    {
     "ename": "IndexError",
     "evalue": "list index out of range",
     "output_type": "error",
     "traceback": [
      "\u001b[0;31m-------------------------------------------------------\u001b[0m",
      "\u001b[0;31mIndexError\u001b[0m            Traceback (most recent call last)",
      "\u001b[0;32m<ipython-input-13-cdec07fb76e5>\u001b[0m in \u001b[0;36m<module>\u001b[0;34m()\u001b[0m\n\u001b[0;32m----> 1\u001b[0;31m \u001b[0mhi\u001b[0m\u001b[0;34m[\u001b[0m\u001b[0;36m1\u001b[0m\u001b[0;34m]\u001b[0m\u001b[0;34m\u001b[0m\u001b[0m\n\u001b[0m",
      "\u001b[0;31mIndexError\u001b[0m: list index out of range"
     ]
    }
   ],
   "source": [
    "hi[1]"
   ]
  },
  {
   "cell_type": "code",
   "execution_count": 14,
   "metadata": {},
   "outputs": [
    {
     "ename": "AttributeError",
     "evalue": "'list' object has no attribute 'getText'",
     "output_type": "error",
     "traceback": [
      "\u001b[0;31m-------------------------------------------------------\u001b[0m",
      "\u001b[0;31mAttributeError\u001b[0m        Traceback (most recent call last)",
      "\u001b[0;32m<ipython-input-14-23b026fc07a8>\u001b[0m in \u001b[0;36m<module>\u001b[0;34m()\u001b[0m\n\u001b[0;32m----> 1\u001b[0;31m \u001b[0mhi\u001b[0m\u001b[0;34m.\u001b[0m\u001b[0mgetText\u001b[0m\u001b[0;34m(\u001b[0m\u001b[0;34m)\u001b[0m\u001b[0;34m\u001b[0m\u001b[0m\n\u001b[0m",
      "\u001b[0;31mAttributeError\u001b[0m: 'list' object has no attribute 'getText'"
     ]
    }
   ],
   "source": [
    "hi.getText()"
   ]
  },
  {
   "cell_type": "code",
   "execution_count": 15,
   "metadata": {},
   "outputs": [
    {
     "data": {
      "text/plain": [
       "'Learn Code Online'"
      ]
     },
     "execution_count": 15,
     "metadata": {},
     "output_type": "execute_result"
    }
   ],
   "source": [
    "hi[0].getText()"
   ]
  },
  {
   "cell_type": "code",
   "execution_count": null,
   "metadata": {
    "collapsed": true
   },
   "outputs": [],
   "source": [
    "# scrapping through wikipedia machine learning"
   ]
  },
  {
   "cell_type": "code",
   "execution_count": 16,
   "metadata": {
    "collapsed": true
   },
   "outputs": [],
   "source": [
    "wikires = requests.get('https://en.wikipedia.org/wiki/Machine_learning')"
   ]
  },
  {
   "cell_type": "code",
   "execution_count": 17,
   "metadata": {
    "collapsed": true
   },
   "outputs": [],
   "source": [
    "wikiSoup = bs4.BeautifulSoup(wikires.text, 'lxml')"
   ]
  },
  {
   "cell_type": "code",
   "execution_count": 18,
   "metadata": {
    "collapsed": true
   },
   "outputs": [],
   "source": [
    "headlines = soup.select('.mw-headline')"
   ]
  },
  {
   "cell_type": "code",
   "execution_count": 19,
   "metadata": {},
   "outputs": [
    {
     "data": {
      "text/plain": [
       "[]"
      ]
     },
     "execution_count": 19,
     "metadata": {},
     "output_type": "execute_result"
    }
   ],
   "source": [
    "headlines"
   ]
  },
  {
   "cell_type": "code",
   "execution_count": 20,
   "metadata": {},
   "outputs": [
    {
     "ename": "SyntaxError",
     "evalue": "invalid syntax (<ipython-input-20-14da84581c20>, line 1)",
     "output_type": "error",
     "traceback": [
      "\u001b[0;36m  File \u001b[0;32m\"<ipython-input-20-14da84581c20>\"\u001b[0;36m, line \u001b[0;32m1\u001b[0m\n\u001b[0;31m    for i in soup.select\u001b[0m\n\u001b[0m                        ^\u001b[0m\n\u001b[0;31mSyntaxError\u001b[0m\u001b[0;31m:\u001b[0m invalid syntax\n"
     ]
    }
   ],
   "source": [
    "for i in soup.select"
   ]
  },
  {
   "cell_type": "code",
   "execution_count": 24,
   "metadata": {},
   "outputs": [
    {
     "name": "stdout",
     "output_type": "stream",
     "text": [
      "Overview\n",
      "Machine learning tasks\n",
      "Machine learning applications\n",
      "History and relationships to other fields\n",
      "Relation to statistics\n",
      " Theory\n",
      "Approaches\n",
      "Decision tree learning\n",
      "Association rule learning\n",
      "Artificial neural networks\n",
      "Deep learning\n",
      "Inductive logic programming\n",
      "Support vector machines\n",
      "Clustering\n",
      "Bayesian networks\n",
      "Reinforcement learning\n",
      "Representation learning\n",
      "Similarity and metric learning\n",
      "Sparse dictionary learning\n",
      "Genetic algorithms\n",
      "Rule-based machine learning\n",
      "Learning classifier systems\n",
      "Applications\n",
      "Model assessments\n",
      "Ethics\n",
      "Software\n",
      "Free and open-source software\n",
      "Proprietary software with free and open-source editions\n",
      "Proprietary software\n",
      "Journals\n",
      "Conferences\n",
      "See also\n",
      "References\n",
      "Further reading\n",
      "External links\n"
     ]
    }
   ],
   "source": [
    "for i in wikiSoup.select('.mw-headline'):\n",
    "    print(i.text)"
   ]
  },
  {
   "cell_type": "code",
   "execution_count": 4,
   "metadata": {
    "collapsed": true
   },
   "outputs": [],
   "source": [
    "import requests"
   ]
  },
  {
   "cell_type": "code",
   "execution_count": 6,
   "metadata": {},
   "outputs": [],
   "source": [
    "from queue import LifoQueue"
   ]
  },
  {
   "cell_type": "code",
   "execution_count": 7,
   "metadata": {},
   "outputs": [
    {
     "name": "stdout",
     "output_type": "stream",
     "text": [
      "Linux/Mac Terminal Tutorial: The Grep Command – Search Files and Directories for Patterns of Text\n",
      "In this Linux/Mac terminal tutorial, we will be learning how to use the grep command. The grep command allows us to search files and directories for patterns of text. You can also pipe the output of one command into grep to get certain matches. It’s extremely useful once you learn the ins and outs. Let’s get started…\n",
      "https://youtube.com/watch?v=VGgTmxXp7xQ\n",
      "\n",
      "How to Run Linux/Bash on Windows 10 Using the Built-In Windows Subsystem for Linux\n",
      "In this video, we will be learning how to run Linux on Windows using the new Windows Subsystem for Linux that comes with Windows 10. This is an excellent way to run Bash on a Windows machine. It allows you to use all of the Bash commands we are used to using on Linux within a Windows system. We will be showing how to enable and install Linux on Windows and also go over a quick overview to see how this works. Let’s get started…\n",
      "https://youtube.com/watch?v=xzgwDbe7foQ\n",
      "\n",
      "Python Quick Tip: Hiding Passwords and Secret Keys in Environment Variables (Windows)\n",
      "In this Python Programming Tutorial, we will be learning how to hide passwords and secret information within environment variables on Windows machines. Hard-coding secret information is a common mistake that beginners make when learning Python. Hiding this information within environment variables allows you to access your secret information within your code without anyone else being able to see these values from your source code. Let’s get started…\n",
      "https://youtube.com/watch?v=IolxqkL7cD8\n",
      "\n",
      "Python Quick Tip: Hiding Passwords and Secret Keys in Environment Variables (Mac & Linux)\n",
      "In this Python Programming Tutorial, we will be learning how to hide passwords and secret information within environment variables on Mac and Linux machines. Hard-coding secret information is a common mistake that beginners make when learning Python. Hiding this information within environment variables allows you to access your secret information within your code without anyone else being able to see these values from your source code. Let’s get started…\n",
      "https://youtube.com/watch?v=5iWhQWVXosU\n",
      "\n",
      "Python Tutorial: Calculate Number of Days, Weeks, or Months to Reach Specific Goals\n",
      "In this Python Programming Tutorial, we will be writing three different scripts to estimate how long it will take to reach certain goals. Our first script will calculate how many months it will take us to pay off a credit card. Our second script will calculate how many weeks it will take to lose a certain amount of weight. And our third script will estimate how long it will take to reach a certain number of subscribers. Let’s get started…\n",
      "https://youtube.com/watch?v=k8asfUbWbI4\n",
      "\n",
      "Python Tutorial: Context Managers – Efficiently Managing Resources\n",
      "In this Python Programming Tutorial, we will be learning how to use context managers to properly manage resources. Context Managers are great for when we need to setup or teardown some resources during use. So these can be used for: open and closing files, opening and closing database connections, acquiring and releasing locks, and much much more. Let’s get started…\n",
      "https://youtube.com/watch?v=-aKFBoZpiqA\n",
      "\n",
      "Channel Update: Look Back on the Year and Big Plans for 2018\n",
      "In this Channel Update, we will be looking back on 2017 and what we’ve done this year. We will also be looking forward to 2018 and discussing the future plans for this channel. This year was the best year for this channel yet and I can’t thank you all enough. I have plenty planned for the future and I look forward to putting out great tutorials next year!\n",
      "https://youtube.com/watch?v=CtgkEaeOkew\n",
      "\n",
      "Python Tutorial: Working with JSON Data using the json Module\n",
      "In this Python Programming Tutorial, we will be learning how to work with JSON data. We will learn how to load JSON into Python objects from strings and how to convert Python objects into JSON strings. We will also see how to load JSON from a file and save those Python objects back to files. Let’s get started…\n",
      "https://youtube.com/watch?v=9N6a-VLBa2I\n",
      "\n",
      "Python Tutorial: Web Scraping with BeautifulSoup and Requests\n",
      "In this Python Programming Tutorial, we will be learning how to scrape websites using the BeautifulSoup library. BeautifulSoup is an excellent tool for parsing HTML code and grabbing exactly the information you need. So whether you’re pulling down headlines from news sites, scores from sports websites, or prices from an online store… BeautifulSoup and Python will help you get this done quickly and easily. Let’s get started…\n",
      "https://youtube.com/watch?v=ng2o98k983k\n",
      "\n",
      "Python Tutorial: re Module – How to Write and Match Regular Expressions (Regex)\n",
      "In this Python Programming Tutorial, we will be learning how to read, write, and match regular expressions with the re module. Regular expressions are extremely useful for matching common patterns of text such as email addresses, phone numbers, URLs, etc. Learning how to do this within Python will allow us to quickly parse files and text for the information we need. Let’s get started…\n",
      "https://youtube.com/watch?v=K8L6KVGG-7o\n",
      "\n"
     ]
    }
   ],
   "source": [
    "from bs4 import BeautifulSoup\n",
    "import requests\n",
    "import csv\n",
    "\n",
    "source = requests.get('http://coreyms.com').text\n",
    "\n",
    "soup = BeautifulSoup(source, 'lxml')\n",
    "\n",
    "csv_file = open('cms_scrape.csv', 'w')\n",
    "\n",
    "csv_writer = csv.writer(csv_file)\n",
    "csv_writer.writerow(['headline', 'summary', 'video_link'])\n",
    "\n",
    "for article in soup.find_all('article'):\n",
    "    headline = article.h2.a.text\n",
    "    print(headline)\n",
    "\n",
    "    summary = article.find('div', class_='entry-content').p.text\n",
    "    print(summary)\n",
    "\n",
    "    try:\n",
    "        vid_src = article.find('iframe', class_='youtube-player')['src']\n",
    "\n",
    "        vid_id = vid_src.split('/')[4]\n",
    "        vid_id = vid_id.split('?')[0]\n",
    "\n",
    "        yt_link = f'https://youtube.com/watch?v={vid_id}'\n",
    "    except Exception as e:\n",
    "        yt_link = None\n",
    "\n",
    "    print(yt_link)\n",
    "\n",
    "    print()\n",
    "\n",
    "    csv_writer.writerow([headline, summary, yt_link])\n",
    "\n",
    "csv_file.close()\n"
   ]
  },
  {
   "cell_type": "code",
   "execution_count": null,
   "metadata": {
    "collapsed": true
   },
   "outputs": [],
   "source": []
  },
  {
   "cell_type": "code",
   "execution_count": null,
   "metadata": {
    "collapsed": true
   },
   "outputs": [],
   "source": []
  },
  {
   "cell_type": "code",
   "execution_count": null,
   "metadata": {
    "collapsed": true
   },
   "outputs": [],
   "source": []
  },
  {
   "cell_type": "code",
   "execution_count": null,
   "metadata": {
    "collapsed": true
   },
   "outputs": [],
   "source": []
  },
  {
   "cell_type": "code",
   "execution_count": null,
   "metadata": {
    "collapsed": true
   },
   "outputs": [],
   "source": []
  },
  {
   "cell_type": "code",
   "execution_count": null,
   "metadata": {
    "collapsed": true
   },
   "outputs": [],
   "source": []
  },
  {
   "cell_type": "code",
   "execution_count": null,
   "metadata": {
    "collapsed": true
   },
   "outputs": [],
   "source": []
  }
 ],
 "metadata": {
  "kernelspec": {
   "display_name": "Python 3",
   "language": "python",
   "name": "python3"
  },
  "language_info": {
   "codemirror_mode": {
    "name": "ipython",
    "version": 3
   },
   "file_extension": ".py",
   "mimetype": "text/x-python",
   "name": "python",
   "nbconvert_exporter": "python",
   "pygments_lexer": "ipython3",
   "version": "3.6.1"
  }
 },
 "nbformat": 4,
 "nbformat_minor": 2
}
