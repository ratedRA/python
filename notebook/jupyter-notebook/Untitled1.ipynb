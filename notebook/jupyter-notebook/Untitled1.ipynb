{
 "cells": [
  {
   "cell_type": "code",
   "execution_count": 1,
   "metadata": {},
   "outputs": [
    {
     "ename": "error",
     "evalue": "OpenCV(4.0.0) /io/opencv/modules/dnn/src/dnn.cpp:2538: error: (-2:Unspecified error) Build OpenCV with Inference Engine to enable loading models from Model Optimizer. in function 'readFromModelOptimizer'\n",
     "output_type": "error",
     "traceback": [
      "\u001b[0;31m----------------------------------------------------------------------\u001b[0m",
      "\u001b[0;31merror\u001b[0m                                Traceback (most recent call last)",
      "\u001b[0;32m<ipython-input-1-0dd2763d1b50>\u001b[0m in \u001b[0;36m<module>\u001b[0;34m\u001b[0m\n\u001b[1;32m      3\u001b[0m \u001b[0mmd\u001b[0m\u001b[0;34m=\u001b[0m\u001b[0;34m'person-detection-retail-0013'\u001b[0m\u001b[0;34m\u001b[0m\u001b[0;34m\u001b[0m\u001b[0m\n\u001b[1;32m      4\u001b[0m net = cv.dnn.readNet('/opt/intel/computer_vision_sdk_2018.5.455/deployment_tools/intel_models/'+md+'/FP32/'+md+'.bin',\n\u001b[0;32m----> 5\u001b[0;31m                      '/opt/intel/computer_vision_sdk_2018.5.455/deployment_tools/intel_models/'+md+'/FP32/'+md+'.xml')\n\u001b[0m\u001b[1;32m      6\u001b[0m \u001b[0;34m\u001b[0m\u001b[0m\n\u001b[1;32m      7\u001b[0m \u001b[0mcap\u001b[0m \u001b[0;34m=\u001b[0m \u001b[0mcv\u001b[0m\u001b[0;34m.\u001b[0m\u001b[0mVideoCapture\u001b[0m\u001b[0;34m(\u001b[0m\u001b[0;34m'vid2.mp4'\u001b[0m\u001b[0;34m)\u001b[0m\u001b[0;34m\u001b[0m\u001b[0;34m\u001b[0m\u001b[0m\n",
      "\u001b[0;31merror\u001b[0m: OpenCV(4.0.0) /io/opencv/modules/dnn/src/dnn.cpp:2538: error: (-2:Unspecified error) Build OpenCV with Inference Engine to enable loading models from Model Optimizer. in function 'readFromModelOptimizer'\n"
     ]
    }
   ],
   "source": [
    "import cv2 as cv\n",
    "\n",
    "md='person-detection-retail-0013'\n",
    "net = cv.dnn.readNet('/opt/intel/computer_vision_sdk_2018.5.455/deployment_tools/intel_models/'+md+'/FP32/'+md+'.bin',\n",
    "                     '/opt/intel/computer_vision_sdk_2018.5.455/deployment_tools/intel_models/'+md+'/FP32/'+md+'.xml')\n",
    "\n",
    "cap = cv.VideoCapture('vid2.mp4')\n",
    "\n",
    "while cv.waitKey(1) < 0:\n",
    "    hasFrame, frame = cap.read()\n",
    "    if not hasFrame:\n",
    "        break\n",
    "    blob = cv.dnn.blobFromImage(frame, size=(544, 320))\n",
    "    net.setInput(blob)\n",
    "    out = net.forward()\n",
    "    for detection in out.reshape(-1, 7):\n",
    "        confidence = float(detection[2])\n",
    "        xmin = int(detection[3] * frame.shape[1])\n",
    "        ymin = int(detection[4] * frame.shape[0])\n",
    "        xmax = int(detection[5] * frame.shape[1])\n",
    "        ymax = int(detection[6] * frame.shape[0])\n",
    "        if confidence >.5:\n",
    "            cv.rectangle(frame, (xmin, ymin), (xmax, ymax), color=(0, 255, 0),thickness=2)\n",
    "\n",
    "    cv.imshow('OpenVINO face detection', frame)"
   ]
  },
  {
   "cell_type": "code",
   "execution_count": 3,
   "metadata": {},
   "outputs": [
    {
     "name": "stdout",
     "output_type": "stream",
     "text": [
      "Content-type: text/html\n",
      "<html>\n",
      "<head><title>My first Python CGI app</title></head>\n",
      "<body>\n",
      "<p>Hello, 'world'!</p>\n",
      "</body>\n",
      "</html>\n"
     ]
    }
   ],
   "source": [
    "import cgi\n",
    "print(\"Content-type: text/html\")\n",
    "print(\"\"\"<html>\n",
    "<head><title>My first Python CGI app</title></head>\n",
    "<body>\n",
    "<p>Hello, 'world'!</p>\n",
    "</body>\n",
    "</html>\"\"\")"
   ]
  },
  {
   "cell_type": "code",
   "execution_count": null,
   "metadata": {},
   "outputs": [],
   "source": []
  }
 ],
 "metadata": {
  "kernelspec": {
   "display_name": "Python 3",
   "language": "python",
   "name": "python3"
  },
  "language_info": {
   "codemirror_mode": {
    "name": "ipython",
    "version": 3
   },
   "file_extension": ".py",
   "mimetype": "text/x-python",
   "name": "python",
   "nbconvert_exporter": "python",
   "pygments_lexer": "ipython3",
   "version": "3.7.1"
  }
 },
 "nbformat": 4,
 "nbformat_minor": 2
}
