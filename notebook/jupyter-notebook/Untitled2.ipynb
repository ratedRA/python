{
 "cells": [
  {
   "cell_type": "markdown",
   "metadata": {},
   "source": [
    "# why startups?\n",
    "\n",
    "I am a fresher currently. So, right now I only aim towards how I can get better in the skills I am good at. Startups work with one motive and that is to give their target market something new and usable which makes the people working there to constantly think innovative and put their thought process into a proper execution. And, for a fresher, this could be a very good learning experience."
   ]
  }
 ],
 "metadata": {
  "kernelspec": {
   "display_name": "Python 3",
   "language": "python",
   "name": "python3"
  },
  "language_info": {
   "codemirror_mode": {
    "name": "ipython",
    "version": 3
   },
   "file_extension": ".py",
   "mimetype": "text/x-python",
   "name": "python",
   "nbconvert_exporter": "python",
   "pygments_lexer": "ipython3",
   "version": "3.7.1"
  }
 },
 "nbformat": 4,
 "nbformat_minor": 2
}
