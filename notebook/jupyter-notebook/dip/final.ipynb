{
 "cells": [
  {
   "cell_type": "code",
   "execution_count": 1,
   "metadata": {},
   "outputs": [],
   "source": [
    "import math"
   ]
  },
  {
   "cell_type": "code",
   "execution_count": 13,
   "metadata": {},
   "outputs": [
    {
     "name": "stdout",
     "output_type": "stream",
     "text": [
      "number of Hough lines: 14\n"
     ]
    },
    {
     "data": {
      "text/plain": [
       "True"
      ]
     },
     "execution_count": 13,
     "metadata": {},
     "output_type": "execute_result"
    }
   ],
   "source": [
    "import cv2\n",
    "import numpy as np\n",
    "\n",
    "\n",
    "filter = False\n",
    "\n",
    "\n",
    "file_path = 'sudoku.jpg'\n",
    "img = cv2.imread(file_path)\n",
    "\n",
    "gray = cv2.cvtColor(img,cv2.COLOR_BGR2GRAY)\n",
    "edges = cv2.Canny(gray,90,150,apertureSize = 3)\n",
    "kernel = np.ones((3,3),np.uint8)\n",
    "edges = cv2.dilate(edges,kernel,iterations = 1)\n",
    "kernel = np.ones((5,5),np.uint8)\n",
    "edges = cv2.erode(edges,kernel,iterations = 1)\n",
    "cv2.imwrite('canny2.jpg',edges)\n",
    "\n",
    "lines = cv2.HoughLines(edges,1,np.pi/180,150)\n",
    "\n",
    "if not lines.any():\n",
    "    print('No lines were found')\n",
    "    exit()\n",
    "\n",
    "if filter:\n",
    "    rho_threshold = 14\n",
    "    theta_threshold = 0.1\n",
    "\n",
    "    # how many lines are similar to a given one\n",
    "    similar_lines = {i : [] for i in range(len(lines))}\n",
    "    for i in range(len(lines)):\n",
    "        for j in range(len(lines)):\n",
    "            if i == j:\n",
    "                continue\n",
    "\n",
    "            rho_i,theta_i = lines[i][0]\n",
    "            rho_j,theta_j = lines[j][0]\n",
    "            if abs(rho_i - rho_j) < rho_threshold and abs(theta_i - theta_j) < theta_threshold:\n",
    "                similar_lines[i].append(j)\n",
    "\n",
    "    # ordering the INDECES of the lines by how many are similar to them\n",
    "    indices = [i for i in range(len(lines))]\n",
    "    indices.sort(key=lambda x : len(similar_lines[x]))\n",
    "\n",
    "    # line flags is the base for the filtering\n",
    "    line_flags = len(lines)*[True]\n",
    "    for i in range(len(lines) - 1):\n",
    "        if not line_flags[indices[i]]: # if we already disregarded the ith element in the ordered list then we don't care (we will not delete anything based on it and we will never reconsider using this line again)\n",
    "            continue\n",
    "\n",
    "        for j in range(i + 1, len(lines)): # we are only considering those elements that had less similar line\n",
    "            if not line_flags[indices[j]]: # and only if we have not disregarded them already\n",
    "                continue\n",
    "\n",
    "            rho_i,theta_i = lines[indices[i]][0]\n",
    "            rho_j,theta_j = lines[indices[j]][0]\n",
    "            if abs(rho_i - rho_j) < rho_threshold and abs(theta_i - theta_j) < theta_threshold:\n",
    "                line_flags[indices[j]] = False # if it is similar and have not been disregarded yet then drop it now\n",
    "\n",
    "print('number of Hough lines:', len(lines))\n",
    "\n",
    "filtered_lines = []\n",
    "\n",
    "if filter:\n",
    "    for i in range(len(lines)): # filtering\n",
    "        if line_flags[i]:\n",
    "            filtered_lines.append(lines[i])\n",
    "\n",
    "    print('Number of filtered lines:', len(filtered_lines))\n",
    "else:\n",
    "    filtered_lines = lines\n",
    "\n",
    "for line in filtered_lines:\n",
    "    rho,theta = line[0]\n",
    "    a = np.cos(theta)\n",
    "    b = np.sin(theta)\n",
    "    x0 = a*rho\n",
    "    y0 = b*rho\n",
    "    x1 = int(x0 + 1000*(-b))\n",
    "    y1 = int(y0 + 1000*(a))\n",
    "    x2 = int(x0 - 1000*(-b))\n",
    "    y2 = int(y0 - 1000*(a))\n",
    "\n",
    "    cv2.line(img,(x1,y1),(x2,y2),(0,0,255),2)\n",
    "cv2.imwrite('hough.jpg',img)"
   ]
  },
  {
   "cell_type": "code",
   "execution_count": null,
   "metadata": {},
   "outputs": [],
   "source": []
  }
 ],
 "metadata": {
  "kernelspec": {
   "display_name": "Python 3",
   "language": "python",
   "name": "python3"
  },
  "language_info": {
   "codemirror_mode": {
    "name": "ipython",
    "version": 3
   },
   "file_extension": ".py",
   "mimetype": "text/x-python",
   "name": "python",
   "nbconvert_exporter": "python",
   "pygments_lexer": "ipython3",
   "version": "3.7.1"
  }
 },
 "nbformat": 4,
 "nbformat_minor": 2
}
