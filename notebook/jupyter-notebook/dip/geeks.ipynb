{
 "cells": [
  {
   "cell_type": "code",
   "execution_count": 15,
   "metadata": {},
   "outputs": [
    {
     "data": {
      "text/plain": [
       "True"
      ]
     },
     "execution_count": 15,
     "metadata": {},
     "output_type": "execute_result"
    }
   ],
   "source": [
    "# Python program to illustrate HoughLine \n",
    "# method for line detection \n",
    "import cv2 \n",
    "import numpy as np \n",
    "  \n",
    "# Reading the required image in  \n",
    "# which operations are to be done.  \n",
    "# Make sure that the image is in the same  \n",
    "# directory in which this python program is \n",
    "img = cv2.imread('sudoku.jpg') \n",
    "  \n",
    "# Convert the img to grayscale \n",
    "gray = cv2.cvtColor(img,cv2.COLOR_BGR2GRAY) \n",
    "  \n",
    "# Apply edge detection method on the image \n",
    "edges = cv2.Canny(gray,50,150,apertureSize = 3) \n",
    "  \n",
    "# This returns an array of r and theta values \n",
    "lines = cv2.HoughLines(edges,1,np.pi/180, 200) \n",
    "  \n",
    "# The below for loop runs till r and theta values  \n",
    "# are in the range of the 2d array \n",
    "def res(img):\n",
    "    line = cv2.HoughLines(img,1,np.pi/180, 200)\n",
    "    return line\n",
    "for x in range(0, len(lines)):\n",
    "    for r, theta in lines[x]:\n",
    "            # Stores the value of cos(theta) in a \n",
    "        a = np.cos(theta) \n",
    "\n",
    "        # Stores the value of sin(theta) in b \n",
    "        b = np.sin(theta) \n",
    "\n",
    "        # x0 stores the value rcos(theta) \n",
    "        x0 = a*r \n",
    "\n",
    "        # y0 stores the value rsin(theta) \n",
    "        y0 = b*r \n",
    "\n",
    "        # x1 stores the rounded off value of (rcos(theta)-1000sin(theta)) \n",
    "        x1 = int(x0 + 1000*(-b)) \n",
    "\n",
    "        # y1 stores the rounded off value of (rsin(theta)+1000cos(theta)) \n",
    "        y1 = int(y0 + 1000*(a)) \n",
    "\n",
    "        # x2 stores the rounded off value of (rcos(theta)+1000sin(theta)) \n",
    "        x2 = int(x0 - 1000*(-b)) \n",
    "\n",
    "        # y2 stores the rounded off value of (rsin(theta)-1000cos(theta)) \n",
    "        y2 = int(y0 - 1000*(a)) \n",
    "\n",
    "        # cv2.line draws a line in img from the point(x1,y1) to (x2,y2). \n",
    "        # (0,0,255) denotes the colour of the line to be  \n",
    "        #drawn. In this case, it is red.  \n",
    "        cv2.line(img,(x1,y1), (x2,y2), (0,0,255),2) \n",
    "      \n",
    "# All the changes made in the input image are finally \n",
    "# written on a new image houghlines.jpg \n",
    "cv2.imwrite('linesDetected.jpg', img) "
   ]
  },
  {
   "cell_type": "code",
   "execution_count": 13,
   "metadata": {},
   "outputs": [],
   "source": [
    "l = res()"
   ]
  },
  {
   "cell_type": "code",
   "execution_count": 14,
   "metadata": {},
   "outputs": [
    {
     "data": {
      "text/plain": [
       "array([[[ 3.6100000e+02,  1.5707964e+00]],\n",
       "\n",
       "       [[ 3.5700000e+02,  1.5707964e+00]],\n",
       "\n",
       "       [[ 3.0400000e+02,  0.0000000e+00]],\n",
       "\n",
       "       [[ 4.1200000e+02,  1.5707964e+00]],\n",
       "\n",
       "       [[ 2.1200000e+02,  3.4906585e-02]],\n",
       "\n",
       "       [[ 2.1600000e+02,  3.4906585e-02]],\n",
       "\n",
       "       [[ 2.1600000e+02,  1.5707964e+00]],\n",
       "\n",
       "       [[-3.4900000e+02,  3.1241393e+00]],\n",
       "\n",
       "       [[ 1.6900000e+02,  1.5707964e+00]],\n",
       "\n",
       "       [[ 2.5700000e+02,  1.7453292e-02]],\n",
       "\n",
       "       [[ 2.1200000e+02,  1.5707964e+00]],\n",
       "\n",
       "       [[-3.9300000e+02,  3.1066861e+00]],\n",
       "\n",
       "       [[-4.3600000e+02,  3.0892327e+00]],\n",
       "\n",
       "       [[ 2.6000000e+02,  1.7453292e-02]],\n",
       "\n",
       "       [[ 3.0200000e+02,  0.0000000e+00]],\n",
       "\n",
       "       [[ 8.3000000e+01,  8.7266460e-02]],\n",
       "\n",
       "       [[-3.4500000e+02,  3.1241393e+00]],\n",
       "\n",
       "       [[-4.9700000e+02,  3.0717795e+00]],\n",
       "\n",
       "       [[-4.8400000e+02,  3.0717795e+00]],\n",
       "\n",
       "       [[-3.9100000e+02,  3.1066861e+00]],\n",
       "\n",
       "       [[-4.3900000e+02,  3.0892327e+00]],\n",
       "\n",
       "       [[ 7.9000000e+01,  8.7266460e-02]],\n",
       "\n",
       "       [[ 1.7100000e+02,  5.2359879e-02]],\n",
       "\n",
       "       [[ 4.1000000e+02,  1.5707964e+00]],\n",
       "\n",
       "       [[-4.9100000e+02,  3.0717795e+00]],\n",
       "\n",
       "       [[-5.0300000e+02,  3.0717795e+00]],\n",
       "\n",
       "       [[-5.0900000e+02,  3.0717795e+00]],\n",
       "\n",
       "       [[ 3.1100000e+02,  1.5707964e+00]],\n",
       "\n",
       "       [[ 3.0900000e+02,  1.5707964e+00]]], dtype=float32)"
      ]
     },
     "execution_count": 14,
     "metadata": {},
     "output_type": "execute_result"
    }
   ],
   "source": [
    "l"
   ]
  },
  {
   "cell_type": "code",
   "execution_count": null,
   "metadata": {},
   "outputs": [],
   "source": [
    "l[0]"
   ]
  }
 ],
 "metadata": {
  "kernelspec": {
   "display_name": "Python 3",
   "language": "python",
   "name": "python3"
  },
  "language_info": {
   "codemirror_mode": {
    "name": "ipython",
    "version": 3
   },
   "file_extension": ".py",
   "mimetype": "text/x-python",
   "name": "python",
   "nbconvert_exporter": "python",
   "pygments_lexer": "ipython3",
   "version": "3.7.1"
  }
 },
 "nbformat": 4,
 "nbformat_minor": 2
}
