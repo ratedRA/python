{
 "cells": [
  {
   "cell_type": "markdown",
   "metadata": {},
   "source": [
    "## Why python is slow?\n",
    "\n",
    "First and foremost, the interpreted vs. compiled distinction that some other answers mention is actually irrelevant. Indeed, surprisingly enough to most, Python is a compiled language running on a virtual machine, just like Java. That’s exactly what those .PYC files you sometimes see are — Python bytecode.\n",
    "\n",
    "So why is Python so vastly slower than Java, even though they effectively follow the same principles of execution?\n",
    "\n",
    "Mostly, it comes down to the fact that Python is a dynamic language, which means that a lot of things normally taken care of during compilation, have to be moved into runtime instead. For example, dynamic method lookup can be very expensive, and Python compiler has absolutely no means to convert any of these calls into static method bindings — something that is trivial in case of Java. This also has a knock-on effect during execution as well — since the execution path is much more predictable in Java, when the just-in-time native code compiler kicks in, there are a lot of optimisations that can be performed, quite on par with the optimisations a decent C++ compiler would make.\n",
    "\n",
    "I hope this gives you some insight into the underlying issues, even though you asked for comparison with C. Python offers a lot of useful abstractions, such as not caring about method parameter type until it is actually used, but each abstraction comes at a price, and in the case of Python, that price is paid primarily during runtime. This is very much in contrast to something like C, C++, and Java, where almost all of the abstraction price is covered during the compilation. Add the fact that C is very close to machine code itself (the only thing closer is Assembly), which allows a programmer to fine tune the code to incredible detail, and you have pretty much the full picture.\n",
    "\n",
    "Let me end this with an example of a very simple operation, and how it is essentially performed by C and Python:\n",
    "\n",
    "c = a + b\n",
    " \n",
    "In C:\n",
    "- load the integer from location a\n",
    "- load the integer from location b\n",
    "- perform integer addition\n",
    "- store the resulting integer into location c\n",
    "Total: 4 CPU commands\n",
    " \n",
    "In Python:\n",
    "- load the object from location a\n",
    "- load the object from location b\n",
    "- find the __add__ method in object a\n",
    "- ... hashtable magic here ...\n",
    "- perform type checks and do the necessary type casting for object b\n",
    "- if you can't find an appropriate representation for b, throw an exception\n",
    "- extract the integer value from object a\n",
    "- extract the integer value from object b\n",
    "- perform integer addition\n",
    "- allocate new memory\n",
    "- wrap the resulting value in a new object\n",
    "Total: a few hundred CPU commands."
   ]
  }
 ],
 "metadata": {
  "kernelspec": {
   "display_name": "Python 3",
   "language": "python",
   "name": "python3"
  },
  "language_info": {
   "codemirror_mode": {
    "name": "ipython",
    "version": 3
   },
   "file_extension": ".py",
   "mimetype": "text/x-python",
   "name": "python",
   "nbconvert_exporter": "python",
   "pygments_lexer": "ipython3",
   "version": "3.7.1"
  }
 },
 "nbformat": 4,
 "nbformat_minor": 2
}
